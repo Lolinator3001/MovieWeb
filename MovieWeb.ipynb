{
 "cells": [
  {
   "cell_type": "code",
   "execution_count": 1,
   "metadata": {
    "colab": {},
    "colab_type": "code",
    "id": "mO52TiQSooBl"
   },
   "outputs": [],
   "source": [
    "import requests\n",
    "from bs4 import BeautifulSoup\n",
    "from urllib.request import Request, urlopen\n",
    "import pandas as pd\n",
    "import numpy as np\n",
    "import torch\n",
    "import torch.nn as nn\n",
    "import torch.nn.functional as F\n",
    "import torch.optim as optim\n",
    "import matplotlib.pyplot as plt\n",
    "from torch.utils.data.sampler import SubsetRandomSampler\n",
    "from torchvision import datasets, transforms\n",
    "from sklearn.linear_model import LinearRegression\n",
    "import matplotlib.pyplot as plt\n",
    "from sklearn.preprocessing import StandardScaler\n",
    "import statistics\n",
    "import io\n",
    "import PIL\n",
    "from PIL import Image\n",
    "from tqdm import tqdm\n",
    "from torch.utils.data import TensorDataset, DataLoader, Dataset\n",
    "import cv2"
   ]
  },
  {
   "cell_type": "code",
   "execution_count": 33,
   "metadata": {
    "colab": {},
    "colab_type": "code",
    "id": "Os3h6ZvPoPyz"
   },
   "outputs": [],
   "source": [
    "class IMDB(Dataset):\n",
    "    def __init__(self, URL: str = \"https://www.imdb.com/chart/top-english-movies\", IMG_SIZE: tuple = (44,64)):\n",
    "        self.URL = URL\n",
    "        self.IMG_SIZE = IMG_SIZE\n",
    "        page = requests.get(URL)\n",
    "        soup = BeautifulSoup(page.content, 'html.parser')\n",
    "        movie_list = soup.find(class_='lister-list')\n",
    "        movie_elems = movie_list.find_all('tr')\n",
    "    \n",
    "        movTitle = []\n",
    "        movYear = []\n",
    "        movRating = []\n",
    "        movPoster = []\n",
    "\n",
    "        for elm in movie_elems:\n",
    "            title = elm.find('td', 'titleColumn').a['title']\n",
    "            movTitle.append(title)\n",
    "            year = int(elm.find('td', 'titleColumn').span.string[1:-1])\n",
    "            movYear.append(year)\n",
    "            rating = float(elm.find('td', 'ratingColumn imdbRating').strong.string)\n",
    "            movRating.append(rating)\n",
    "            posterURL = elm.find('td', 'posterColumn').a.img['src']\n",
    "            data = requests.get(posterURL).content\n",
    "            img = Image.open(io.BytesIO(data)).resize(IMG_SIZE)\n",
    "            array = np.array(img, dtype='int64')\n",
    "            movPoster.append(array)\n",
    "\n",
    "        imdb = {'Movie Title':movTitle, 'Year Published':movYear, 'IMDb Rating':movRating, 'Movie Poster': movPoster}\n",
    "        self.df = pd.DataFrame(imdb)\n",
    "\n",
    "\n",
    "    def __len__(self):\n",
    "        return self.df.shape[0]\n",
    "\n",
    "\n",
    "    def __getitem__(self, index:int) -> np.ndarray:\n",
    "        image = self.df['Movie Poster'][index].reshape(3, *self.IMG_SIZE).astype('float32')\n",
    "        return image\n",
    "    \n",
    "    def displayImage(self, index:int):\n",
    "        image = self.df['Movie Poster'][index]\n",
    "        plt.imshow(image)\n",
    "\n",
    "\n",
    "imdbDataset = IMDB()\n",
    "imdbDataset.displayImage(0)"
   ]
  },
  {
   "cell_type": "code",
   "execution_count": 35,
   "metadata": {},
   "outputs": [],
   "source": [
    "#Define the Convolutional Autoencoder\n",
    "class ConvAutoencoder(nn.Module):\n",
    "    def __init__(self):\n",
    "        super(ConvAutoencoder, self).__init__()\n",
    "       \n",
    "        #Encoder\n",
    "        self.conv1 = nn.Conv2d(3, 16, 3, padding=1)  \n",
    "        self.conv2 = nn.Conv2d(16, 4, 3, padding=1)\n",
    "        self.pool = nn.MaxPool2d(2, 2)\n",
    "       \n",
    "        #Decoder\n",
    "        self.t_conv1 = nn.ConvTranspose2d(4, 16, 2, stride=2)\n",
    "        self.t_conv2 = nn.ConvTranspose2d(16, 3, 2, stride=2)\n",
    "\n",
    "\n",
    "    def forward(self, x):\n",
    "        x = F.relu(self.conv1(x))\n",
    "        x = self.pool(x)\n",
    "        x = F.relu(self.conv2(x))\n",
    "        x = self.pool(x)\n",
    "        x = F.relu(self.t_conv1(x))\n",
    "        x = F.sigmoid(self.t_conv2(x))\n",
    "              \n",
    "        return x\n",
    "\n",
    "#Instantiate the model\n",
    "model = ConvAutoencoder()\n",
    "\n",
    "#Loss function\n",
    "criterion = nn.MSELoss()\n",
    "\n",
    "#Optimizer\n",
    "optimizer = torch.optim.Adam(model.parameters(), lr=0.001)"
   ]
  },
  {
   "cell_type": "code",
   "execution_count": 36,
   "metadata": {},
   "outputs": [
    {
     "output_type": "stream",
     "name": "stdout",
     "text": [
      "cuda:0\n"
     ]
    },
    {
     "output_type": "execute_result",
     "data": {
      "text/plain": [
       "ConvAutoencoder(\n",
       "  (conv1): Conv2d(3, 16, kernel_size=(3, 3), stride=(1, 1), padding=(1, 1))\n",
       "  (conv2): Conv2d(16, 4, kernel_size=(3, 3), stride=(1, 1), padding=(1, 1))\n",
       "  (pool): MaxPool2d(kernel_size=2, stride=2, padding=0, dilation=1, ceil_mode=False)\n",
       "  (t_conv1): ConvTranspose2d(4, 16, kernel_size=(2, 2), stride=(2, 2))\n",
       "  (t_conv2): ConvTranspose2d(16, 3, kernel_size=(2, 2), stride=(2, 2))\n",
       ")"
      ]
     },
     "metadata": {},
     "execution_count": 36
    }
   ],
   "source": [
    "def get_device():\n",
    "    if torch.cuda.is_available():\n",
    "        device = 'cuda:0'\n",
    "    else:\n",
    "        device = 'cpu'\n",
    "    return device\n",
    "\n",
    "device = get_device()\n",
    "print(device)\n",
    "model.to(device)"
   ]
  },
  {
   "cell_type": "code",
   "execution_count": 37,
   "metadata": {},
   "outputs": [],
   "source": [
    "train_loader = DataLoader(\n",
    "    imdbDataset,\n",
    "    batch_size=10,\n",
    "    shuffle=True,\n",
    "    num_workers=2,\n",
    "    pin_memory=torch.cuda.is_available()\n",
    ")"
   ]
  },
  {
   "cell_type": "code",
   "execution_count": 38,
   "metadata": {},
   "outputs": [],
   "source": [
    "#Epochs\n",
    "n_epochs = 15\n",
    "\n",
    "for epoch in range(1, n_epochs+1):\n",
    "    # monitor training loss\n",
    "    train_loss = 0.0\n",
    "\n",
    "    #Training\n",
    "    for images in train_loader:\n",
    "        images = images.cuda()\n",
    "        optimizer.zero_grad()\n",
    "        outputs = model(images)\n",
    "        loss = criterion(outputs, images)\n",
    "        loss.backward()\n",
    "        optimizer.step()\n",
    "        train_loss += loss.item()*images.size(0)\n",
    "          \n",
    "    train_loss = train_loss/len(train_loader)\n",
    "    print('Epoch: {} \\tTraining Loss: {:.6f}'.format(epoch, train_loss))"
   ]
  },
  {
   "cell_type": "code",
   "execution_count": null,
   "metadata": {},
   "outputs": [],
   "source": [
    "#Batch of test images\n",
    "dataiter = iter(train_loader)\n",
    "images = dataiter.next()\n",
    "images = images.cuda()\n",
    "\n",
    "#Sample outputs\n",
    "output = model(images)\n",
    "images = images.cpu().data.numpy()\n",
    "output = output.view(train_loader.batch_size, 3, *IMG_SIZE)\n",
    "output = output.cpu().data.numpy()\n",
    "\n",
    "#Original Images\n",
    "print(\"Original Images\")\n",
    "fig, axes = plt.subplots(nrows=1, ncols=5, sharex=True, sharey=True, figsize=(12,4))\n",
    "for idx in np.arange(5):\n",
    "    ax = fig.add_subplot(1, 5, idx+1, xticks=[], yticks=[])\n",
    "    plt.imshow(images[idx].reshape(*IMG_SIZE, 3).astype('int64'))\n",
    "plt.show()\n",
    "\n",
    "#Reconstructed Images\n",
    "print('Reconstructed Images')\n",
    "fig, axes = plt.subplots(nrows=1, ncols=5, sharex=True, sharey=True, figsize=(12,4))\n",
    "for idx in np.arange(5):\n",
    "    ax = fig.add_subplot(1, 5, idx+1, xticks=[], yticks=[])\n",
    "    plt.imshow(output[idx].reshape(*IMG_SIZE, 3).astype('int64'))\n",
    "plt.show()"
   ]
  },
  {
   "cell_type": "code",
   "execution_count": null,
   "metadata": {
    "colab": {
     "base_uri": "https://localhost:8080/",
     "height": 129
    },
    "colab_type": "code",
    "id": "YcrwRAMKrKWP",
    "outputId": "de4329f1-4f7a-4062-c0b4-587b8f2acd9e"
   },
   "outputs": [],
   "source": [
    "fig = plt.figure()\n",
    "ax1 = fig.add_subplot(121)\n",
    "ax2 = fig.add_subplot(122)\n",
    "\n",
    "IMDb_df.plot.scatter(\"Year Published\", \"IMDb Rating\", ax=ax1)\n",
    "\n",
    "lr = LinearRegression().fit(np.array(IMDb_df['Year Published']).reshape(-1,1), np.array(IMDb_df['IMDb Rating']).reshape(-1,1))\n",
    "IMDb_df.plot.scatter(x='Year Published', y='IMDb Rating', ax=ax2)\n",
    "ax2.plot(np.array(IMDb_df['Year Published']) , lr.predict(np.array(IMDb_df['Year Published']).reshape(-1,1)), color = 'r')\n",
    "plt.subplots_adjust(right=1.656)\n",
    "\n",
    "plt.show()"
   ]
  },
  {
   "cell_type": "code",
   "execution_count": null,
   "metadata": {
    "colab": {},
    "colab_type": "code",
    "id": "KexWbHibqQMP"
   },
   "outputs": [],
   "source": [
    "# #def getMetaCritic(URL):\n",
    "\n",
    "# movie_list = soup.find(class_='clamp-list')\n",
    "\n",
    "# movie_elems = movie_list.find_all('tr')\n",
    "\n",
    "# page = Request(url, headers={'User-Agent': 'Mozilla/5.0'})\n",
    "\n",
    "# webpage = urlopen(page).read()\n",
    "\n",
    "# soup = BeautifulSoup(webpage, \"html.parser\")\n",
    "\n",
    " \n",
    "\n",
    "# for elm in movie_elems:\n",
    "#   try:\n",
    "#     title = elm.find('td', 'clamp-summary-wrap').find('a', \"title\").h3.string\n",
    "#     movTitle.append(title)\n",
    "#     year = int(elm.find('td', 'clamp-summary-wrap').find('div', 'clamp-details').span.string[-4:])\n",
    "#     movYear.append(year)\n",
    "#     rating = float(elm.find('td', 'clamp-summary-wrap').find('div', 'clamp-score-wrap').a.div.string)\n",
    "#     movRating.append(rating)\n",
    "#   except AttributeError:\n",
    "#     continue\n",
    "\n",
    "# meta = {'Movie Title':movTitle, 'Year Published':movYear, 'Metacritic Rating':movRating}\n",
    "# pd.DataFrame(meta) #Add Return when converted into Function\n",
    "\n",
    "\n",
    "# elm.find('td', 'clamp-summary-wrap').find('div', 'clamp-score-wrap').a.div.string"
   ]
  },
  {
   "cell_type": "code",
   "execution_count": 10,
   "metadata": {
    "colab": {},
    "colab_type": "code",
    "id": "IeI4WkBDjr8s"
   },
   "outputs": [],
   "source": [
    "x = [1,-2,5] \n",
    "y = [1,-2,5]\n",
    "y_bar = sum(y)/len(y) #8.1\n",
    "x_bar = sum(x)/len(x) #1973.33"
   ]
  },
  {
   "cell_type": "code",
   "execution_count": 11,
   "metadata": {
    "colab": {},
    "colab_type": "code",
    "id": "iD16xHR30-lM"
   },
   "outputs": [
    {
     "data": {
      "text/plain": [
       "8.222222222222221"
      ]
     },
     "execution_count": 11,
     "metadata": {},
     "output_type": "execute_result"
    }
   ],
   "source": [
    "tot = 0\n",
    "for x_val,y_val in zip(x,y):\n",
    "  x_var = (x_val - x_bar)* -1\n",
    "  y_var = (y_val - y_bar)* -1\n",
    "  tot += x_var * y_var\n",
    "tot/len(x)"
   ]
  },
  {
   "cell_type": "code",
   "execution_count": 12,
   "metadata": {
    "colab": {},
    "colab_type": "code",
    "id": "HAt16PYx8KPf"
   },
   "outputs": [
    {
     "data": {
      "text/plain": [
       "8.222222222222221"
      ]
     },
     "execution_count": 12,
     "metadata": {},
     "output_type": "execute_result"
    }
   ],
   "source": [
    "np.dot((np.array(x) - np.average(x)),(np.array(y) - np.average(y)))/np.array(x).shape[0]"
   ]
  },
  {
   "cell_type": "code",
   "execution_count": 13,
   "metadata": {
    "colab": {},
    "colab_type": "code",
    "id": "Eb9dV7kyFp4S"
   },
   "outputs": [],
   "source": [
    "a = np.ones((4,7)) + 4"
   ]
  },
  {
   "cell_type": "code",
   "execution_count": 14,
   "metadata": {
    "colab": {},
    "colab_type": "code",
    "id": "PsqYAgkjyUoW"
   },
   "outputs": [],
   "source": [
    "b = np.ones((3,4)) /2"
   ]
  },
  {
   "cell_type": "code",
   "execution_count": 15,
   "metadata": {
    "colab": {},
    "colab_type": "code",
    "id": "0QAuHAJq0yCI"
   },
   "outputs": [
    {
     "data": {
      "text/plain": [
       "array([[10., 10., 10., 10., 10., 10., 10.],\n",
       "       [10., 10., 10., 10., 10., 10., 10.],\n",
       "       [10., 10., 10., 10., 10., 10., 10.]])"
      ]
     },
     "execution_count": 15,
     "metadata": {},
     "output_type": "execute_result"
    }
   ],
   "source": [
    "np.dot(b, a)"
   ]
  },
  {
   "cell_type": "code",
   "execution_count": 16,
   "metadata": {
    "colab": {},
    "colab_type": "code",
    "id": "sIEH2vf-1JNO"
   },
   "outputs": [],
   "source": [
    "x = np.array([1, 5, 4, 7])\n",
    "y = x * 5 + 7"
   ]
  },
  {
   "cell_type": "code",
   "execution_count": 17,
   "metadata": {
    "colab": {},
    "colab_type": "code",
    "id": "SHQ_0kEmr_Wr"
   },
   "outputs": [
    {
     "data": {
      "image/png": "[encoded data removed]",
      "text/plain": [
       "<Figure size 432x288 with 1 Axes>"
      ]
     },
     "metadata": {
      "needs_background": "light"
     },
     "output_type": "display_data"
    }
   ],
   "source": [
    "fig, ax = plt.subplots()\n",
    "ax.scatter([1, 5, 4, 7], [12, 32, 27, 42])\n",
    "ax.set_ylabel(\"y label\")\n",
    "ax.set_xlabel('x label')\n",
    "plt.show()"
   ]
  },
  {
   "cell_type": "markdown",
   "metadata": {
    "colab_type": "text",
    "id": "fpeP7J-IxygD"
   },
   "source": [
    "![image.png](data:image/png;base64,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)"
   ]
  },
  {
   "cell_type": "code",
   "execution_count": 18,
   "metadata": {
    "colab": {},
    "colab_type": "code",
    "id": "FnA3Fm0PsRM2"
   },
   "outputs": [],
   "source": [
    "a_numer = np.dot(x - np.average(x), y - np.average(y))\n",
    "a_denom = np.dot(x - np.average(x), x - np.average(x))"
   ]
  },
  {
   "cell_type": "code",
   "execution_count": 19,
   "metadata": {
    "colab": {},
    "colab_type": "code",
    "id": "nywtz2pPwS9b"
   },
   "outputs": [],
   "source": [
    "a = a_numer/a_denom"
   ]
  },
  {
   "cell_type": "code",
   "execution_count": 20,
   "metadata": {
    "colab": {},
    "colab_type": "code",
    "id": "yE29yqcxw_fQ"
   },
   "outputs": [],
   "source": [
    "b = np.average(y) - a * np.average(x)"
   ]
  },
  {
   "cell_type": "code",
   "execution_count": 21,
   "metadata": {
    "colab": {},
    "colab_type": "code",
    "id": "s2c3GFpDxpB3"
   },
   "outputs": [
    {
     "data": {
      "image/png": "[encoded data removed]",
      "text/plain": [
       "<Figure size 432x288 with 1 Axes>"
      ]
     },
     "metadata": {
      "needs_background": "light"
     },
     "output_type": "display_data"
    }
   ],
   "source": [
    "fig, ax = plt.subplots()\n",
    "ax.scatter([1, 5, 4, 7], [12, 32, 27, 42])\n",
    "ax.set_ylabel(\"y label\")\n",
    "ax.set_xlabel('x label')\n",
    "plt.plot(x, a*x + b,'g-')\n",
    "plt.show()"
   ]
  },
  {
   "cell_type": "code",
   "execution_count": 22,
   "metadata": {
    "colab": {},
    "colab_type": "code",
    "id": "p5OV4AdoTcQY"
   },
   "outputs": [
    {
     "data": {
      "text/plain": [
       "array([[-1.5011107 ],\n",
       "       [ 0.34641016],\n",
       "       [-0.11547005],\n",
       "       [ 1.27017059]])"
      ]
     },
     "execution_count": 22,
     "metadata": {},
     "output_type": "execute_result"
    }
   ],
   "source": [
    "scaler = StandardScaler()\n",
    "scaler.fit(x.reshape(-1, 1))\n",
    "scaler.transform(x.reshape(-1, 1))"
   ]
  },
  {
   "cell_type": "code",
   "execution_count": 23,
   "metadata": {
    "colab": {},
    "colab_type": "code",
    "id": "B15PftHKivNq"
   },
   "outputs": [],
   "source": [
    "class Perceptron:\n",
    "\n",
    "    def __init__(self, no_of_inputs, threshold=100, learning_rate=0.01):\n",
    "        self.threshold = threshold\n",
    "        self.learning_rate = learning_rate\n",
    "        self.weights = np.zeros(no_of_inputs + 1)\n",
    "           \n",
    "    def predict(self, inputs):\n",
    "        summation = np.dot(inputs, self.weights[1:]) + self.weights[0]\n",
    "        if summation > 0:\n",
    "          activation = 1\n",
    "        else:\n",
    "          activation = 0            \n",
    "        return activation\n",
    "\n",
    "    def train(self, training_inputs, labels):\n",
    "        for _ in range(self.threshold):\n",
    "            for inputs, label in zip(training_inputs, labels):\n",
    "                prediction = self.predict(inputs)\n",
    "                self.weights[1:] += self.learning_rate * (label - prediction) * inputs\n",
    "                self.weights[0] += self.learning_rate * (label - prediction)"
   ]
  },
  {
   "cell_type": "code",
   "execution_count": 24,
   "metadata": {
    "colab": {},
    "colab_type": "code",
    "id": "SxDnt2H3oNw7"
   },
   "outputs": [
    {
     "name": "stdout",
     "output_type": "stream",
     "text": [
      "(3, 1)\n",
      "(2, 2)\n",
      "(1, 3)\n"
     ]
    }
   ],
   "source": [
    "listy = [1,2,3]\n",
    "listx = [3,2,1,0]\n",
    "for x in zip(listx,listy):\n",
    "  print(x)"
   ]
  },
  {
   "cell_type": "code",
   "execution_count": 25,
   "metadata": {
    "colab": {},
    "colab_type": "code",
    "id": "ELNqGLJhdlzH"
   },
   "outputs": [],
   "source": [
    "myPerceptron = Perceptron(4)"
   ]
  },
  {
   "cell_type": "code",
   "execution_count": 26,
   "metadata": {
    "colab": {},
    "colab_type": "code",
    "id": "JXg1ugvrBj6T"
   },
   "outputs": [
    {
     "data": {
      "text/plain": [
       "[(3, 1), (2, 2), (1, 3)]"
      ]
     },
     "execution_count": 26,
     "metadata": {},
     "output_type": "execute_result"
    }
   ],
   "source": [
    "[(3,1), (2,2), (1,3)]"
   ]
  },
  {
   "cell_type": "code",
   "execution_count": 27,
   "metadata": {
    "colab": {},
    "colab_type": "code",
    "id": "IqWHHtmHezJe"
   },
   "outputs": [],
   "source": [
    " summation = np.dot(np.zeros((2,4)), myPerceptron.weights[1:]) + myPerceptron.weights[0]"
   ]
  },
  {
   "cell_type": "code",
   "execution_count": null,
   "metadata": {
    "colab": {},
    "colab_type": "code",
    "id": "xJj0I7RYCNfE"
   },
   "outputs": [],
   "source": []
  }
 ],
 "metadata": {
  "colab": {
   "collapsed_sections": [],
   "name": "MovieWeb.ipynb",
   "provenance": []
  },
  "kernelspec": {
   "name": "python383jvsc74a57bd068eaaba66beca2ac531325a8eb0d768025a236d475528c177c4442b4927a16c1",
   "display_name": "Python 3.8.3 64-bit ('base': conda)"
  },
  "language_info": {
   "codemirror_mode": {
    "name": "ipython",
    "version": 3
   },
   "file_extension": ".py",
   "mimetype": "text/x-python",
   "name": "python",
   "nbconvert_exporter": "python",
   "pygments_lexer": "ipython3",
   "version": "3.8.3-final"
  }
 },
 "nbformat": 4,
 "nbformat_minor": 4
}