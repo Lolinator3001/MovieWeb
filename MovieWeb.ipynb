{
  "nbformat": 4,
  "nbformat_minor": 0,
  "metadata": {
    "colab": {
      "name": "MovieWeb.ipynb",
      "provenance": [],
      "collapsed_sections": [],
      "include_colab_link": true
    },
    "interpreter": {
      "hash": "68eaaba66beca2ac531325a8eb0d768025a236d475528c177c4442b4927a16c1"
    },
    "kernelspec": {
      "display_name": "Python 3",
      "language": "python",
      "name": "python3"
    },
    "language_info": {
      "codemirror_mode": {
        "name": "ipython",
        "version": 3
      },
      "file_extension": ".py",
      "mimetype": "text/x-python",
      "name": "python",
      "nbconvert_exporter": "python",
      "pygments_lexer": "ipython3",
      "version": "3.9.7"
    },
    "accelerator": "GPU"
  },
  "cells": [
    {
      "cell_type": "markdown",
      "metadata": {
        "id": "view-in-github",
        "colab_type": "text"
      },
      "source": [
        "<a href=\"https://colab.research.google.com/github/Lolinator3001/MovieWeb/blob/master/MovieWeb.ipynb\" target=\"_parent\"><img src=\"https://colab.research.google.com/assets/colab-badge.svg\" alt=\"Open In Colab\"/></a>"
      ]
    },
    {
      "cell_type": "code",
      "metadata": {
        "id": "mO52TiQSooBl"
      },
      "source": [
        "import requests\n",
        "from bs4 import BeautifulSoup\n",
        "import pandas as pd\n",
        "import numpy as np\n",
        "import torch\n",
        "import torch.nn as nn\n",
        "import matplotlib.pyplot as plt\n",
        "from torch.utils.data.sampler import SubsetRandomSampler\n",
        "from torchvision import transforms\n",
        "import matplotlib.pyplot as plt\n",
        "from sklearn.preprocessing import StandardScaler\n",
        "import wandb\n",
        "import io\n",
        "import os\n",
        "from PIL import Image\n",
        "from torch.utils.data import Dataset\n",
        "from sklearn.manifold import TSNE\n",
        "import seaborn as sns\n",
        "#import plotly.express as px\n",
        "import asyncio\n",
        "import aiohttp\n",
        "from tqdm import trange\n",
        "import plotly.express as px\n",
        "\n",
        "import IPython"
      ],
      "execution_count": 38,
      "outputs": []
    },
    {
      "cell_type": "code",
      "metadata": {
        "id": "jiXxF3-UEFGY"
      },
      "source": [
        "WANDB_ON = True\n",
        "SWEEP_ON = True\n",
        "COUNT = None"
      ],
      "execution_count": 27,
      "outputs": []
    },
    {
      "cell_type": "markdown",
      "source": [
        "### IMDB Dataset\n",
        "\n",
        "Get the movie titles, genres, ratings, years, and poster urls out of the IMDB website and saving it into a dataframe"
      ],
      "metadata": {
        "id": "2sVLRIgfCH8B"
      }
    },
    {
      "cell_type": "code",
      "metadata": {
        "id": "Os3h6ZvPoPyz"
      },
      "source": [
        "class IMDB(Dataset):\n",
        "    def __init__(self, URL: str = \"https://www.imdb.com/search/title/?genres=action&start=0&explore=title_type,genres&ref_=adv_nxt\", IMG_SIZE: tuple = (44,64)):\n",
        "        self.URL = URL\n",
        "        self.IMG_SIZE = IMG_SIZE\n",
        "        self.transform = transforms.Compose([\n",
        "            # transforms.RandomHorizontalFlip(p=0.5),\n",
        "            transforms.ToTensor(),\n",
        "            # transforms.Normalize((0.5, 0.5, 0.5), (0.5, 0.5, 0.5))\n",
        "        ])\n",
        "\n",
        "        # Parses through the IMDB website and finds the html elements that contain movie information  \n",
        "        page = requests.get(URL)\n",
        "        soup = BeautifulSoup(page.content, 'html.parser')\n",
        "        movie_list = soup.find(class_='lister-list')\n",
        "        movie_elems = movie_list.find_all('tr')\n",
        "\n",
        "        # Runs through the elements of the HTML to find the movie information \n",
        "        movTitle = []\n",
        "        movYear = []\n",
        "        movRating = []\n",
        "        movPoster = []\n",
        "        movGenre = []\n",
        "        movURL = []\n",
        "\n",
        "        for i in trange(0, 10000, 50):\n",
        "          response = requests.get(f\"https://www.imdb.com/search/title/?start={i+1}&explore=title_type,genres&ref_=adv_nxt&title_type=Movie\")\n",
        "          soup = BeautifulSoup(response.content, 'html.parser')\n",
        "          lister_list = soup.find(class_='lister-list')\n",
        "          movies = lister_list.find_all('div', \"lister-item mode-advanced\")\n",
        "          for movie in movies:\n",
        "            try:\n",
        "              title = movie.a.img['alt']\n",
        "              genre = movie.find('span', 'genre').decode_contents().strip()\n",
        "              rating = float(movie.strong.decode_contents())\n",
        "              url = movie.a.img['loadlate']\n",
        "              year = int(''.join([c for c in movie.find('span', \"lister-item-year text-muted unbold\").decode_contents() if c in list(map(str, range(10)))]))\n",
        "              movURL.append(url)\n",
        "              movRating.append(rating)\n",
        "              movGenre.append(genre)\n",
        "              movTitle.append(title)\n",
        "              movYear.append(year)\n",
        "            except:\n",
        "              pass\n",
        "\n",
        "        # Take the information and save it into a dataframe\n",
        "        imdb = {'title':movTitle, 'year':movYear, 'genre': movGenre, 'rating':movRating, 'url': movURL}\n",
        "        self.df = pd.DataFrame(imdb)\n",
        "        self.df.to_csv('MovieData.csv')\n",
        "\n",
        "\n",
        "    def __len__(self):\n",
        "        return self.df.shape[0] # Gets the length of the dataframe\n",
        "\n",
        "\n",
        "    # def __getitem__(self, index:int) -> np.ndarray:\n",
        "    #     image = self.transform(self.df['poster'][index]) # Turns the image into a tensor image\n",
        "    #     return image\n",
        "    \n",
        "    # def displayImage(self, index:int):\n",
        "    #     image = self.df['Movie Poster'][index]\n",
        "    #     plt.imshow(image) # Displays image"
      ],
      "execution_count": 28,
      "outputs": []
    },
    {
      "cell_type": "code",
      "source": [
        "data = IMDB()"
      ],
      "metadata": {
        "colab": {
          "base_uri": "https://localhost:8080/"
        },
        "id": "9uzw9zmC_K1Y",
        "outputId": "44e95cd1-1070-4b19-a3ef-ef81ef4fe1ad"
      },
      "execution_count": 29,
      "outputs": [
        {
          "output_type": "stream",
          "name": "stderr",
          "text": [
            "100%|██████████| 200/200 [03:37<00:00,  1.09s/it]\n"
          ]
        }
      ]
    },
    {
      "cell_type": "markdown",
      "source": [
        "Login to W&B"
      ],
      "metadata": {
        "id": "MsB9k7dgC0GK"
      }
    },
    {
      "cell_type": "code",
      "metadata": {
        "id": "gQ7mHP-zEFGZ",
        "colab": {
          "base_uri": "https://localhost:8080/"
        },
        "outputId": "58424df5-3e17-4dec-848a-6f98a2cfc7cf"
      },
      "source": [
        "if WANDB_ON:\n",
        "    !wandb login"
      ],
      "execution_count": 33,
      "outputs": [
        {
          "output_type": "stream",
          "name": "stdout",
          "text": [
            "\u001b[34m\u001b[1mwandb\u001b[0m: You can find your API key in your browser here: https://wandb.ai/authorize\n",
            "\u001b[34m\u001b[1mwandb\u001b[0m: Paste an API key from your profile and hit enter, or press ctrl+c to quit: \n",
            "\u001b[34m\u001b[1mwandb\u001b[0m: Appending key for api.wandb.ai to your netrc file: /root/.netrc\n"
          ]
        }
      ]
    },
    {
      "cell_type": "markdown",
      "source": [
        "Hyperparameter optimization configuration using W&B Sweeps"
      ],
      "metadata": {
        "id": "tTMLVqw9DZtU"
      }
    },
    {
      "cell_type": "code",
      "metadata": {
        "id": "Ew-5qu5WEFGa",
        "colab": {
          "base_uri": "https://localhost:8080/"
        },
        "outputId": "6fcf3f60-dad4-4e29-d4c0-4f6c76df9fee"
      },
      "source": [
        "if WANDB_ON and SWEEP_ON:\n",
        "    sweep_config = {\n",
        "        \"name\": \"MovieWeb\",\n",
        "        \"method\": \"bayes\",\n",
        "        \"metric\": {\n",
        "            \"name\": \"test_loss\",\n",
        "            \"goal\": \"minimize\"\n",
        "        },\n",
        "        \"parameters\": {\n",
        "            \"learning_rate\": {\n",
        "                \"distribution\": \"uniform\",\n",
        "                \"min\": 0.0001,\n",
        "                \"max\": 0.01\n",
        "            },\n",
        "            \"optimizer\": {\n",
        "                \"values\": [\"Adam\"]\n",
        "            },\n",
        "            \"epochs\":{\n",
        "                \"distribution\": \"normal\",\n",
        "                \"mu\": 1000,\n",
        "                \"sigma\": 250,\n",
        "            },\n",
        "            \"batch_size\": {\n",
        "                \"distribution\": \"int_uniform\",\n",
        "                \"min\": 4,\n",
        "                \"max\": 256\n",
        "            },\n",
        "            \"random_seed\": {\n",
        "                \"values\": [42]\n",
        "            },\n",
        "            \"validation_split\": {\n",
        "                \"values\": [.2]\n",
        "            },\n",
        "            \"shuffle_dataset\": {\n",
        "                \"values\": [True]\n",
        "            }\n",
        "        }\n",
        "    }\n",
        "\n",
        "    sweep_id = wandb.sweep(sweep_config, project='MovieWeb', entity='cmerrill')"
      ],
      "execution_count": 34,
      "outputs": [
        {
          "output_type": "stream",
          "name": "stdout",
          "text": [
            "Create sweep with ID: xll7dsby\n",
            "Sweep URL: https://wandb.ai/cmerrill/MovieWeb/sweeps/xll7dsby\n"
          ]
        }
      ]
    },
    {
      "cell_type": "markdown",
      "source": [
        "# **Define the Convolutional Autoencoder**"
      ],
      "metadata": {
        "id": "VlMBSfnKDt8Q"
      }
    },
    {
      "cell_type": "code",
      "metadata": {
        "id": "gXBi8Rs-EFGb"
      },
      "source": [
        "class ConvAutoencoder(nn.Module):\n",
        "    def __init__(self):\n",
        "        super(ConvAutoencoder, self).__init__()\n",
        "        self.embedding_size = None\n",
        "        \n",
        "        #Encoder\n",
        "        self.encoder = nn.Sequential(\n",
        "            nn.Conv2d(3, 16, 3, padding=1), \n",
        "            nn.ReLU(),\n",
        "            nn.MaxPool2d(2, 2),\n",
        "            nn.Conv2d(16, 4, 3, padding=1), \n",
        "            nn.ReLU(),\n",
        "            nn.MaxPool2d(2, 2)\n",
        "            \n",
        "        )\n",
        "       \n",
        "        #Decoder\n",
        "        self.decoder = nn.Sequential(\n",
        "            nn.ConvTranspose2d(4, 16, 2, stride=2),\n",
        "            nn.ReLU(),\n",
        "            nn.ConvTranspose2d(16, 3, 2, stride=2),\n",
        "            nn.Sigmoid(),\n",
        "        )\n",
        "\n",
        "    def forward(self, x) -> torch.Tensor:\n",
        "        x = self.encoder(x)\n",
        "        if x.size() != self.embedding_size:\n",
        "            self.embedding_size = x.size()\n",
        "        x = self.decoder(x)\n",
        "        return x\n",
        "\n",
        "    def embedding(self, x) -> torch.Tensor:\n",
        "        x = torch.flatten(self.encoder(x), start_dim=1).T\n",
        "        return x\n",
        "\n",
        "    def count_parameters(self) -> int:\n",
        "        return sum(p.numel() for p in self.parameters() if p.requires_grad)"
      ],
      "execution_count": 35,
      "outputs": []
    },
    {
      "cell_type": "markdown",
      "source": [
        "## Get's the ratio between the input of the auto encoder and the embedding space."
      ],
      "metadata": {
        "id": "-lkDIwmiD7pQ"
      }
    },
    {
      "cell_type": "code",
      "metadata": {
        "id": "3T_0Avb-EFGb",
        "colab": {
          "base_uri": "https://localhost:8080/",
          "height": 363
        },
        "outputId": "fc7a8897-35b4-4e5a-dd6b-ab91e53c6a38"
      },
      "source": [
        "def compression_ratio():\n",
        "    temp_db = IMDB()\n",
        "    x = temp_db.__getitem__(0)\n",
        "    model = ConvAutoencoder()\n",
        "    x = torch.reshape(x, (1,*x.shape))\n",
        "    _ = model.forward(x)\n",
        "    cr = np.prod(x.shape) / np.prod(model.embedding_size)\n",
        "    return cr\n",
        "\n",
        "\n",
        "\n",
        "print(f'Compression ratio: {compression_ratio()}:1')"
      ],
      "execution_count": 36,
      "outputs": [
        {
          "output_type": "stream",
          "name": "stderr",
          "text": [
            "  6%|▌         | 11/200 [00:10<02:56,  1.07it/s]\n"
          ]
        },
        {
          "output_type": "error",
          "ename": "KeyboardInterrupt",
          "evalue": "ignored",
          "traceback": [
            "\u001b[0;31m---------------------------------------------------------------------------\u001b[0m",
            "\u001b[0;31mKeyboardInterrupt\u001b[0m                         Traceback (most recent call last)",
            "\u001b[0;32m/tmp/ipykernel_226/1694254414.py\u001b[0m in \u001b[0;36m<module>\u001b[0;34m\u001b[0m\n\u001b[1;32m     10\u001b[0m \u001b[0;34m\u001b[0m\u001b[0m\n\u001b[1;32m     11\u001b[0m \u001b[0;34m\u001b[0m\u001b[0m\n\u001b[0;32m---> 12\u001b[0;31m \u001b[0mprint\u001b[0m\u001b[0;34m(\u001b[0m\u001b[0;34mf'Compression ratio: {compression_ratio()}:1'\u001b[0m\u001b[0;34m)\u001b[0m\u001b[0;34m\u001b[0m\u001b[0;34m\u001b[0m\u001b[0m\n\u001b[0m",
            "\u001b[0;32m/tmp/ipykernel_226/1694254414.py\u001b[0m in \u001b[0;36mcompression_ratio\u001b[0;34m()\u001b[0m\n\u001b[1;32m      1\u001b[0m \u001b[0;32mdef\u001b[0m \u001b[0mcompression_ratio\u001b[0m\u001b[0;34m(\u001b[0m\u001b[0;34m)\u001b[0m\u001b[0;34m:\u001b[0m\u001b[0;34m\u001b[0m\u001b[0;34m\u001b[0m\u001b[0m\n\u001b[0;32m----> 2\u001b[0;31m     \u001b[0mtemp_db\u001b[0m \u001b[0;34m=\u001b[0m \u001b[0mIMDB\u001b[0m\u001b[0;34m(\u001b[0m\u001b[0;34m)\u001b[0m\u001b[0;34m\u001b[0m\u001b[0;34m\u001b[0m\u001b[0m\n\u001b[0m\u001b[1;32m      3\u001b[0m     \u001b[0mx\u001b[0m \u001b[0;34m=\u001b[0m \u001b[0mtemp_db\u001b[0m\u001b[0;34m.\u001b[0m\u001b[0m__getitem__\u001b[0m\u001b[0;34m(\u001b[0m\u001b[0;36m0\u001b[0m\u001b[0;34m)\u001b[0m\u001b[0;34m\u001b[0m\u001b[0;34m\u001b[0m\u001b[0m\n\u001b[1;32m      4\u001b[0m     \u001b[0mmodel\u001b[0m \u001b[0;34m=\u001b[0m \u001b[0mConvAutoencoder\u001b[0m\u001b[0;34m(\u001b[0m\u001b[0;34m)\u001b[0m\u001b[0;34m\u001b[0m\u001b[0;34m\u001b[0m\u001b[0m\n\u001b[1;32m      5\u001b[0m     \u001b[0mx\u001b[0m \u001b[0;34m=\u001b[0m \u001b[0mtorch\u001b[0m\u001b[0;34m.\u001b[0m\u001b[0mreshape\u001b[0m\u001b[0;34m(\u001b[0m\u001b[0mx\u001b[0m\u001b[0;34m,\u001b[0m \u001b[0;34m(\u001b[0m\u001b[0;36m1\u001b[0m\u001b[0;34m,\u001b[0m\u001b[0;34m*\u001b[0m\u001b[0mx\u001b[0m\u001b[0;34m.\u001b[0m\u001b[0mshape\u001b[0m\u001b[0;34m)\u001b[0m\u001b[0;34m)\u001b[0m\u001b[0;34m\u001b[0m\u001b[0;34m\u001b[0m\u001b[0m\n",
            "\u001b[0;32m/tmp/ipykernel_226/1626010247.py\u001b[0m in \u001b[0;36m__init__\u001b[0;34m(self, URL, IMG_SIZE)\u001b[0m\n\u001b[1;32m     24\u001b[0m         \u001b[0;32mfor\u001b[0m \u001b[0mi\u001b[0m \u001b[0;32min\u001b[0m \u001b[0mtrange\u001b[0m\u001b[0;34m(\u001b[0m\u001b[0;36m0\u001b[0m\u001b[0;34m,\u001b[0m \u001b[0;36m10000\u001b[0m\u001b[0;34m,\u001b[0m \u001b[0;36m50\u001b[0m\u001b[0;34m)\u001b[0m\u001b[0;34m:\u001b[0m\u001b[0;34m\u001b[0m\u001b[0;34m\u001b[0m\u001b[0m\n\u001b[1;32m     25\u001b[0m           \u001b[0mresponse\u001b[0m \u001b[0;34m=\u001b[0m \u001b[0mrequests\u001b[0m\u001b[0;34m.\u001b[0m\u001b[0mget\u001b[0m\u001b[0;34m(\u001b[0m\u001b[0;34mf\"https://www.imdb.com/search/title/?start={i+1}&explore=title_type,genres&ref_=adv_nxt&title_type=Movie\"\u001b[0m\u001b[0;34m)\u001b[0m\u001b[0;34m\u001b[0m\u001b[0;34m\u001b[0m\u001b[0m\n\u001b[0;32m---> 26\u001b[0;31m           \u001b[0msoup\u001b[0m \u001b[0;34m=\u001b[0m \u001b[0mBeautifulSoup\u001b[0m\u001b[0;34m(\u001b[0m\u001b[0mresponse\u001b[0m\u001b[0;34m.\u001b[0m\u001b[0mcontent\u001b[0m\u001b[0;34m,\u001b[0m \u001b[0;34m'html.parser'\u001b[0m\u001b[0;34m)\u001b[0m\u001b[0;34m\u001b[0m\u001b[0;34m\u001b[0m\u001b[0m\n\u001b[0m\u001b[1;32m     27\u001b[0m           \u001b[0mlister_list\u001b[0m \u001b[0;34m=\u001b[0m \u001b[0msoup\u001b[0m\u001b[0;34m.\u001b[0m\u001b[0mfind\u001b[0m\u001b[0;34m(\u001b[0m\u001b[0mclass_\u001b[0m\u001b[0;34m=\u001b[0m\u001b[0;34m'lister-list'\u001b[0m\u001b[0;34m)\u001b[0m\u001b[0;34m\u001b[0m\u001b[0;34m\u001b[0m\u001b[0m\n\u001b[1;32m     28\u001b[0m           \u001b[0mmovies\u001b[0m \u001b[0;34m=\u001b[0m \u001b[0mlister_list\u001b[0m\u001b[0;34m.\u001b[0m\u001b[0mfind_all\u001b[0m\u001b[0;34m(\u001b[0m\u001b[0;34m'div'\u001b[0m\u001b[0;34m,\u001b[0m \u001b[0;34m\"lister-item mode-advanced\"\u001b[0m\u001b[0;34m)\u001b[0m\u001b[0;34m\u001b[0m\u001b[0;34m\u001b[0m\u001b[0m\n",
            "\u001b[0;32m/usr/local/lib/python3.7/dist-packages/bs4/__init__.py\u001b[0m in \u001b[0;36m__init__\u001b[0;34m(self, markup, features, builder, parse_only, from_encoding, exclude_encodings, **kwargs)\u001b[0m\n\u001b[1;32m    280\u001b[0m             \u001b[0mself\u001b[0m\u001b[0;34m.\u001b[0m\u001b[0mreset\u001b[0m\u001b[0;34m(\u001b[0m\u001b[0;34m)\u001b[0m\u001b[0;34m\u001b[0m\u001b[0;34m\u001b[0m\u001b[0m\n\u001b[1;32m    281\u001b[0m             \u001b[0;32mtry\u001b[0m\u001b[0;34m:\u001b[0m\u001b[0;34m\u001b[0m\u001b[0;34m\u001b[0m\u001b[0m\n\u001b[0;32m--> 282\u001b[0;31m                 \u001b[0mself\u001b[0m\u001b[0;34m.\u001b[0m\u001b[0m_feed\u001b[0m\u001b[0;34m(\u001b[0m\u001b[0;34m)\u001b[0m\u001b[0;34m\u001b[0m\u001b[0;34m\u001b[0m\u001b[0m\n\u001b[0m\u001b[1;32m    283\u001b[0m                 \u001b[0;32mbreak\u001b[0m\u001b[0;34m\u001b[0m\u001b[0;34m\u001b[0m\u001b[0m\n\u001b[1;32m    284\u001b[0m             \u001b[0;32mexcept\u001b[0m \u001b[0mParserRejectedMarkup\u001b[0m\u001b[0;34m:\u001b[0m\u001b[0;34m\u001b[0m\u001b[0;34m\u001b[0m\u001b[0m\n",
            "\u001b[0;32m/usr/local/lib/python3.7/dist-packages/bs4/__init__.py\u001b[0m in \u001b[0;36m_feed\u001b[0;34m(self)\u001b[0m\n\u001b[1;32m    341\u001b[0m         \u001b[0mself\u001b[0m\u001b[0;34m.\u001b[0m\u001b[0mbuilder\u001b[0m\u001b[0;34m.\u001b[0m\u001b[0mreset\u001b[0m\u001b[0;34m(\u001b[0m\u001b[0;34m)\u001b[0m\u001b[0;34m\u001b[0m\u001b[0;34m\u001b[0m\u001b[0m\n\u001b[1;32m    342\u001b[0m \u001b[0;34m\u001b[0m\u001b[0m\n\u001b[0;32m--> 343\u001b[0;31m         \u001b[0mself\u001b[0m\u001b[0;34m.\u001b[0m\u001b[0mbuilder\u001b[0m\u001b[0;34m.\u001b[0m\u001b[0mfeed\u001b[0m\u001b[0;34m(\u001b[0m\u001b[0mself\u001b[0m\u001b[0;34m.\u001b[0m\u001b[0mmarkup\u001b[0m\u001b[0;34m)\u001b[0m\u001b[0;34m\u001b[0m\u001b[0;34m\u001b[0m\u001b[0m\n\u001b[0m\u001b[1;32m    344\u001b[0m         \u001b[0;31m# Close out any unfinished strings and close all the open tags.\u001b[0m\u001b[0;34m\u001b[0m\u001b[0;34m\u001b[0m\u001b[0;34m\u001b[0m\u001b[0m\n\u001b[1;32m    345\u001b[0m         \u001b[0mself\u001b[0m\u001b[0;34m.\u001b[0m\u001b[0mendData\u001b[0m\u001b[0;34m(\u001b[0m\u001b[0;34m)\u001b[0m\u001b[0;34m\u001b[0m\u001b[0;34m\u001b[0m\u001b[0m\n",
            "\u001b[0;32m/usr/local/lib/python3.7/dist-packages/bs4/builder/_htmlparser.py\u001b[0m in \u001b[0;36mfeed\u001b[0;34m(self, markup)\u001b[0m\n\u001b[1;32m    245\u001b[0m         \u001b[0mparser\u001b[0m\u001b[0;34m.\u001b[0m\u001b[0msoup\u001b[0m \u001b[0;34m=\u001b[0m \u001b[0mself\u001b[0m\u001b[0;34m.\u001b[0m\u001b[0msoup\u001b[0m\u001b[0;34m\u001b[0m\u001b[0;34m\u001b[0m\u001b[0m\n\u001b[1;32m    246\u001b[0m         \u001b[0;32mtry\u001b[0m\u001b[0;34m:\u001b[0m\u001b[0;34m\u001b[0m\u001b[0;34m\u001b[0m\u001b[0m\n\u001b[0;32m--> 247\u001b[0;31m             \u001b[0mparser\u001b[0m\u001b[0;34m.\u001b[0m\u001b[0mfeed\u001b[0m\u001b[0;34m(\u001b[0m\u001b[0mmarkup\u001b[0m\u001b[0;34m)\u001b[0m\u001b[0;34m\u001b[0m\u001b[0;34m\u001b[0m\u001b[0m\n\u001b[0m\u001b[1;32m    248\u001b[0m             \u001b[0mparser\u001b[0m\u001b[0;34m.\u001b[0m\u001b[0mclose\u001b[0m\u001b[0;34m(\u001b[0m\u001b[0;34m)\u001b[0m\u001b[0;34m\u001b[0m\u001b[0;34m\u001b[0m\u001b[0m\n\u001b[1;32m    249\u001b[0m         \u001b[0;32mexcept\u001b[0m \u001b[0mHTMLParseError\u001b[0m \u001b[0;32mas\u001b[0m \u001b[0me\u001b[0m\u001b[0;34m:\u001b[0m\u001b[0;34m\u001b[0m\u001b[0;34m\u001b[0m\u001b[0m\n",
            "\u001b[0;32m/usr/lib/python3.7/html/parser.py\u001b[0m in \u001b[0;36mfeed\u001b[0;34m(self, data)\u001b[0m\n\u001b[1;32m    109\u001b[0m         \"\"\"\n\u001b[1;32m    110\u001b[0m         \u001b[0mself\u001b[0m\u001b[0;34m.\u001b[0m\u001b[0mrawdata\u001b[0m \u001b[0;34m=\u001b[0m \u001b[0mself\u001b[0m\u001b[0;34m.\u001b[0m\u001b[0mrawdata\u001b[0m \u001b[0;34m+\u001b[0m \u001b[0mdata\u001b[0m\u001b[0;34m\u001b[0m\u001b[0;34m\u001b[0m\u001b[0m\n\u001b[0;32m--> 111\u001b[0;31m         \u001b[0mself\u001b[0m\u001b[0;34m.\u001b[0m\u001b[0mgoahead\u001b[0m\u001b[0;34m(\u001b[0m\u001b[0;36m0\u001b[0m\u001b[0;34m)\u001b[0m\u001b[0;34m\u001b[0m\u001b[0;34m\u001b[0m\u001b[0m\n\u001b[0m\u001b[1;32m    112\u001b[0m \u001b[0;34m\u001b[0m\u001b[0m\n\u001b[1;32m    113\u001b[0m     \u001b[0;32mdef\u001b[0m \u001b[0mclose\u001b[0m\u001b[0;34m(\u001b[0m\u001b[0mself\u001b[0m\u001b[0;34m)\u001b[0m\u001b[0;34m:\u001b[0m\u001b[0;34m\u001b[0m\u001b[0;34m\u001b[0m\u001b[0m\n",
            "\u001b[0;32m/usr/lib/python3.7/html/parser.py\u001b[0m in \u001b[0;36mgoahead\u001b[0;34m(self, end)\u001b[0m\n\u001b[1;32m    168\u001b[0m             \u001b[0mstartswith\u001b[0m \u001b[0;34m=\u001b[0m \u001b[0mrawdata\u001b[0m\u001b[0;34m.\u001b[0m\u001b[0mstartswith\u001b[0m\u001b[0;34m\u001b[0m\u001b[0;34m\u001b[0m\u001b[0m\n\u001b[1;32m    169\u001b[0m             \u001b[0;32mif\u001b[0m \u001b[0mstartswith\u001b[0m\u001b[0;34m(\u001b[0m\u001b[0;34m'<'\u001b[0m\u001b[0;34m,\u001b[0m \u001b[0mi\u001b[0m\u001b[0;34m)\u001b[0m\u001b[0;34m:\u001b[0m\u001b[0;34m\u001b[0m\u001b[0;34m\u001b[0m\u001b[0m\n\u001b[0;32m--> 170\u001b[0;31m                 \u001b[0;32mif\u001b[0m \u001b[0mstarttagopen\u001b[0m\u001b[0;34m.\u001b[0m\u001b[0mmatch\u001b[0m\u001b[0;34m(\u001b[0m\u001b[0mrawdata\u001b[0m\u001b[0;34m,\u001b[0m \u001b[0mi\u001b[0m\u001b[0;34m)\u001b[0m\u001b[0;34m:\u001b[0m \u001b[0;31m# < + letter\u001b[0m\u001b[0;34m\u001b[0m\u001b[0;34m\u001b[0m\u001b[0m\n\u001b[0m\u001b[1;32m    171\u001b[0m                     \u001b[0mk\u001b[0m \u001b[0;34m=\u001b[0m \u001b[0mself\u001b[0m\u001b[0;34m.\u001b[0m\u001b[0mparse_starttag\u001b[0m\u001b[0;34m(\u001b[0m\u001b[0mi\u001b[0m\u001b[0;34m)\u001b[0m\u001b[0;34m\u001b[0m\u001b[0;34m\u001b[0m\u001b[0m\n\u001b[1;32m    172\u001b[0m                 \u001b[0;32melif\u001b[0m \u001b[0mstartswith\u001b[0m\u001b[0;34m(\u001b[0m\u001b[0;34m\"</\"\u001b[0m\u001b[0;34m,\u001b[0m \u001b[0mi\u001b[0m\u001b[0;34m)\u001b[0m\u001b[0;34m:\u001b[0m\u001b[0;34m\u001b[0m\u001b[0;34m\u001b[0m\u001b[0m\n",
            "\u001b[0;31mKeyboardInterrupt\u001b[0m: "
          ]
        }
      ]
    },
    {
      "cell_type": "code",
      "metadata": {
        "id": "wvbmrwH8VtXF"
      },
      "source": [
        "hasGPU = torch.cuda.is_available"
      ],
      "execution_count": 37,
      "outputs": []
    },
    {
      "cell_type": "markdown",
      "source": [
        "Trains the model on the dataset extracted from IMDB"
      ],
      "metadata": {
        "id": "eqtETLY_IRux"
      }
    },
    {
      "cell_type": "code",
      "metadata": {
        "tags": [],
        "id": "8SB7Iyj9EFGc"
      },
      "source": [
        "def train():\n",
        "    # get_device()\n",
        "    with wandb.init(project='MovieWeb', entity='cmerrill') if WANDB_ON else None as run:\n",
        "        config = {}\n",
        "        config['learning_rate'] = 0.1\n",
        "        config['batch_size'] = 4\n",
        "        config['epochs'] = 2000\n",
        "        config['validation_split'] = 0.2\n",
        "        config['shuffle_dataset'] = True\n",
        "        config['random_seed'] = 42\n",
        "        config['optimizer'] = \"SGD\"\n",
        "        \n",
        "        if WANDB_ON:\n",
        "            config.update(wandb.config)\n",
        "        \n",
        "        config['epochs'] = int(config['epochs'])\n",
        "        print(config)\n",
        "        \n",
        "        # Creating data indices for training and validation splits:\n",
        "        imdbDataset = IMDB()\n",
        "        dataset_size = len(imdbDataset)\n",
        "        indices = list(range(dataset_size))\n",
        "        split = int(np.floor(config['validation_split'] * dataset_size))\n",
        "        if config['shuffle_dataset'] :\n",
        "            np.random.seed(config['random_seed'])\n",
        "            np.random.shuffle(indices)\n",
        "        train_indices, test_indices = indices[split:], indices[:split]\n",
        "\n",
        "        # Creating PT data samplers and loaders:\n",
        "        train_sampler = SubsetRandomSampler(train_indices)\n",
        "        test_sampler = SubsetRandomSampler(test_indices)\n",
        "\n",
        "        train_loader = torch.utils.data.DataLoader(\n",
        "            imdbDataset, \n",
        "            batch_size=config['batch_size'], \n",
        "            sampler=train_sampler\n",
        "        )\n",
        "\n",
        "        test_loader = torch.utils.data.DataLoader(\n",
        "            imdbDataset, \n",
        "            batch_size=config['batch_size'],\n",
        "            sampler=test_sampler\n",
        "        )\n",
        "\n",
        "        #Instantiate the model\n",
        "        model = ConvAutoencoder()\n",
        "        if hasGPU():\n",
        "          model.cuda()\n",
        "        else:\n",
        "          model.cpu()\n",
        "\n",
        "        if WANDB_ON:\n",
        "            wandb.watch(model)\n",
        "\n",
        "        #Loss function\n",
        "        criterion = nn.MSELoss()\n",
        "\n",
        "        #Optimizer\n",
        "        optimizer = getattr(torch.optim, config['optimizer'])(model.parameters(), lr = config['learning_rate'])\n",
        "\n",
        "        for epoch in range(1, config['epochs']+1):\n",
        "            # monitor training loss\n",
        "            train_loss = 0.0\n",
        "            \n",
        "            # Training\n",
        "            for images in train_loader:\n",
        "              if hasGPU():\n",
        "                images = images.cuda()\n",
        "              else:\n",
        "                images = images.cpu()\n",
        "                optimizer.zero_grad()\n",
        "                outputs = model(images)\n",
        "                loss = criterion(outputs, images)\n",
        "                loss.backward()\n",
        "                optimizer.step()\n",
        "                train_loss += loss.item()*images.size(0)\n",
        "                \n",
        "            train_loss = train_loss/len(train_loader)\n",
        "            \n",
        "            if WANDB_ON:\n",
        "                wandb.log({\"loss\": train_loss})\n",
        "\n",
        "            #monitor testing loss\n",
        "            test_loss = 0.0\n",
        "\n",
        "            # Testing\n",
        "            for images in test_loader:\n",
        "              if hasGPU():\n",
        "                images = images.cuda()\n",
        "              else:\n",
        "                images = images.cpu()\n",
        "              outputs = model(images)\n",
        "              loss = criterion(outputs, images)\n",
        "              test_loss += loss.item()*images.size(0)\n",
        "          \n",
        "            test_loss = test_loss/len(test_loader)\n",
        "            \n",
        "            if WANDB_ON:\n",
        "                wandb.log({\"test_loss\": test_loss})\n",
        "\n",
        "            print('Epoch {} | Train Loss: {:.4f} |  Test Loss: {:.4f}'.format(epoch, train_loss, test_loss))\n",
        "\n",
        "        #Batch of test images\n",
        "        dataiter = iter(train_loader)\n",
        "        images = dataiter.next()\n",
        "        if hasGPU():\n",
        "          images = images.cuda()\n",
        "        else:\n",
        "          images = images.cpu()\n",
        "\n",
        "        #Sample outputs\n",
        "        outputs = model(images)\n",
        "        images = images.cpu().data.numpy()\n",
        "        outputs = outputs.cpu().data.numpy()\n",
        "\n",
        "        #Original Images\n",
        "        f, axarr = plt.subplots(1,4,figsize=(12,12))\n",
        "        for idx in np.arange(4):\n",
        "            axarr[idx].imshow(np.moveaxis(images[idx], 0, -1))\n",
        "            axarr[idx].tick_params(\n",
        "                left=False, \n",
        "                right=False , \n",
        "                labelleft=False ,\n",
        "                labelbottom=False, \n",
        "                bottom=False\n",
        "            )\n",
        "        if WANDB_ON:\n",
        "            wandb.log({\"true_images\": plt})\n",
        "        else:\n",
        "            plt.show()\n",
        "\n",
        "        #Reconstructed Images\n",
        "        f, axarr = plt.subplots(1,4,figsize=(12,12))\n",
        "        for idx in np.arange(4):\n",
        "            axarr[idx].imshow(np.moveaxis(outputs[idx], 0, -1))\n",
        "            axarr[idx].tick_params(\n",
        "                left=False, \n",
        "                right=False , \n",
        "                labelleft=False ,\n",
        "                labelbottom=False, \n",
        "                bottom=False\n",
        "            )\n",
        "\n",
        "        if WANDB_ON:\n",
        "            wandb.log({\"reconstructed_images\": plt})\n",
        "        else:\n",
        "            plt.show()\n",
        "\n",
        "        if WANDB_ON:\n",
        "            # Save your model.\n",
        "            torch.save(model.state_dict(), './saved_models/model.pth')\n",
        "            # Save as artifact for version control.\n",
        "            artifact = wandb.Artifact(f'model', type='model')\n",
        "            artifact.add_file('./saved_models/model.pth')\n",
        "            run.log_artifact(artifact, aliases=['latest', run.name])\n",
        "            run.join()\n",
        "            # Delete the file from the saved_models folder.\n",
        "            os.remove('./saved_models/model.pth')\n",
        "            run.finish()"
      ],
      "execution_count": null,
      "outputs": []
    },
    {
      "cell_type": "markdown",
      "source": [
        "Check if W&B and Sweeps are on; if so, run sweeps, otherwise run without it"
      ],
      "metadata": {
        "id": "6zOJfl9hIZ2w"
      }
    },
    {
      "cell_type": "code",
      "metadata": {
        "id": "vJS7ud0LEFGc"
      },
      "source": [
        "if WANDB_ON:\n",
        "    if SWEEP_ON:\n",
        "        wandb.agent(sweep_id, function=train, count=COUNT)\n",
        "    else:\n",
        "        train()"
      ],
      "execution_count": null,
      "outputs": []
    },
    {
      "cell_type": "markdown",
      "metadata": {
        "id": "2MiQHcEuEFGd"
      },
      "source": [
        "Comparing the test_loss between each model and taking the lowest value as the BestModel as long as the test_loss isn't 0."
      ]
    },
    {
      "cell_type": "code",
      "metadata": {
        "id": "rOuDuNTHEFGe"
      },
      "source": [
        "def getBestModel(sweep_id):\n",
        "    api = wandb.Api()\n",
        "\n",
        "    sweep = api.sweep(f\"cmerrill/MovieWeb/{sweep_id}\")\n",
        "    runs = sorted(sweep.runs,\n",
        "        key=lambda run: run.summary.get(\"test_loss\", 0))\n",
        "    runs = list(filter(lambda run: run.summary.get(\"test_loss\") not in [0,None],runs))\n",
        "    test_loss = runs[0].summary.get(\"name\", 0)\n",
        "    print(f\"Best run {runs[0].name} with {test_loss} test loss\")\n",
        "\n",
        "    run = wandb.init()\n",
        "    artifact = run.use_artifact(f'cmerrill/MovieWeb/model:{runs[0].name}', type='model')\n",
        "    artifact_dir = artifact.download()\n",
        "    model = ConvAutoencoder()\n",
        "    checkpoint = torch.load(os.path.join(artifact_dir, 'model.pth'))\n",
        "    model.load_state_dict(checkpoint)\n",
        "    \n",
        "    return model"
      ],
      "execution_count": null,
      "outputs": []
    },
    {
      "cell_type": "code",
      "metadata": {
        "id": "bYrJBm3DEFGe"
      },
      "source": [
        "model = getBestModel('wd6dnfqw')"
      ],
      "execution_count": null,
      "outputs": []
    },
    {
      "cell_type": "markdown",
      "source": [
        "Showing the user what the BestModel has produced in terms of reconstructed image; comparing the test image extracted from IMDB to the Reconstructed Image created by the model."
      ],
      "metadata": {
        "id": "QNer3WGYI4Qj"
      }
    },
    {
      "cell_type": "code",
      "metadata": {
        "id": "t0Hr86GhEFGe"
      },
      "source": [
        "def validateBestModel(model):\n",
        "    \n",
        "    imdbDataset = IMDB()\n",
        "    # Creating data indices for training and validation splits:\n",
        "    dataset_size = len(imdbDataset)\n",
        "    indices = list(range(dataset_size))\n",
        "    split = int(np.floor(.2 * dataset_size))\n",
        "    np.random.seed(42)\n",
        "    np.random.shuffle(indices)\n",
        "    test_indices = indices[:split]\n",
        "\n",
        "    # Creating PyTorch data samplers and loaders:\n",
        "    test_sampler = SubsetRandomSampler(test_indices)\n",
        "\n",
        "    test_loader = torch.utils.data.DataLoader(\n",
        "        imdbDataset, \n",
        "        batch_size=8,\n",
        "        sampler=test_sampler\n",
        "    )\n",
        "\n",
        "    #Batch of test images\n",
        "    dataiter = iter(test_loader)\n",
        "    images = dataiter.next()\n",
        "    # images = images.cuda()\n",
        "\n",
        "    #Sample outputs\n",
        "    outputs = model(images)\n",
        "    images = images.cpu().data.numpy()\n",
        "    outputs = outputs.cpu().data.numpy()\n",
        "\n",
        "    #Original Images\n",
        "    print(\"Test Images\")\n",
        "    f, axarr = plt.subplots(1,8,figsize=(12,12))\n",
        "    for idx in np.arange(8):\n",
        "        axarr[idx].imshow(np.moveaxis(images[idx], 0, -1))\n",
        "        axarr[idx].tick_params(\n",
        "            left=False, \n",
        "            right=False , \n",
        "            labelleft=False ,\n",
        "            labelbottom=False, \n",
        "            bottom=False\n",
        "        )\n",
        "    plt.show()\n",
        "\n",
        "    #Reconstructed Images\n",
        "    print('Reconstructed Images')\n",
        "    f, axarr = plt.subplots(1,8,figsize=(12,12))\n",
        "    for idx in np.arange(8):\n",
        "        axarr[idx].imshow(np.moveaxis(outputs[idx], 0, -1))\n",
        "        axarr[idx].tick_params(\n",
        "            left=False, \n",
        "            right=False , \n",
        "            labelleft=False ,\n",
        "            labelbottom=False, \n",
        "            bottom=False\n",
        "        )\n",
        "    plt.show()"
      ],
      "execution_count": null,
      "outputs": []
    },
    {
      "cell_type": "code",
      "metadata": {
        "id": "l78DCbMNEFGe"
      },
      "source": [
        "validateBestModel(model)"
      ],
      "execution_count": null,
      "outputs": []
    },
    {
      "cell_type": "markdown",
      "source": [
        "Run all of the data through the model to get the embedding for each poster\n",
        "\n",
        "Taking the embeddings and turning them into 3D points so we can comprehend it and graph it"
      ],
      "metadata": {
        "id": "zvyJPBrsI7L2"
      }
    },
    {
      "cell_type": "code",
      "metadata": {
        "id": "CtRzVpzWaNbi"
      },
      "source": [
        "imdbDataset = IMDB()\n",
        "\n",
        "data_loader = torch.utils.data.DataLoader(\n",
        "    imdbDataset, \n",
        "    batch_size=len(imdbDataset),\n",
        ")\n",
        "\n",
        "#Batch of test images\n",
        "dataiter = iter(data_loader)\n",
        "outputs = model.embedding(next(dataiter))\n",
        "outputs = outputs.T.cpu().data.numpy()\n",
        "\n",
        "X_embedded = TSNE(n_components=3, learning_rate='auto', init='random').fit_transform(outputs)"
      ],
      "execution_count": null,
      "outputs": []
    },
    {
      "cell_type": "markdown",
      "source": [
        "Graph the 3D points mentioned above so we can see the clusters"
      ],
      "metadata": {
        "id": "G7E7oLYwKb-S"
      }
    },
    {
      "cell_type": "code",
      "source": [
        "x, y, z = zip(*X_embedded)\n",
        "fig = px.scatter_3d(x=x, y=y, z=z)\n",
        "fig.show()"
      ],
      "metadata": {
        "id": "VNDwPELYTx3u"
      },
      "execution_count": null,
      "outputs": []
    }
  ]
}