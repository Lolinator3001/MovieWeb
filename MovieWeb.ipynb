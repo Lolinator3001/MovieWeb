{
  "nbformat": 4,
  "nbformat_minor": 0,
  "metadata": {
    "colab": {
      "name": "MovieWeb.ipynb",
      "provenance": [],
      "collapsed_sections": [],
      "include_colab_link": true
    },
    "interpreter": {
      "hash": "68eaaba66beca2ac531325a8eb0d768025a236d475528c177c4442b4927a16c1"
    },
    "kernelspec": {
      "display_name": "Python 3",
      "language": "python",
      "name": "python3"
    },
    "language_info": {
      "codemirror_mode": {
        "name": "ipython",
        "version": 3
      },
      "file_extension": ".py",
      "mimetype": "text/x-python",
      "name": "python",
      "nbconvert_exporter": "python",
      "pygments_lexer": "ipython3",
      "version": "3.9.7"
    },
    "accelerator": "GPU"
  },
  "cells": [
    {
      "cell_type": "markdown",
      "metadata": {
        "id": "view-in-github",
        "colab_type": "text"
      },
      "source": [
        "<a href=\"https://colab.research.google.com/github/Lolinator3001/MovieWeb/blob/master/MovieWeb.ipynb\" target=\"_parent\"><img src=\"https://colab.research.google.com/assets/colab-badge.svg\" alt=\"Open In Colab\"/></a>"
      ]
    },
    {
      "cell_type": "code",
      "metadata": {
        "id": "HnivH3vEEGZk",
        "colab": {
          "base_uri": "https://localhost:8080/"
        },
        "outputId": "f3f44948-ea4d-4dac-e10b-2b29262fff0d"
      },
      "source": [
        "!pip install wandb aiohttp --quiet"
      ],
      "execution_count": 11,
      "outputs": [
        {
          "output_type": "stream",
          "name": "stdout",
          "text": [
            "\u001b[K     |████████████████████████████████| 1.1 MB 8.1 MB/s \n",
            "\u001b[K     |████████████████████████████████| 271 kB 72.8 MB/s \n",
            "\u001b[K     |████████████████████████████████| 94 kB 2.3 MB/s \n",
            "\u001b[K     |████████████████████████████████| 144 kB 63.1 MB/s \n",
            "\u001b[?25h"
          ]
        }
      ]
    },
    {
      "cell_type": "code",
      "metadata": {
        "id": "mO52TiQSooBl"
      },
      "source": [
        "import requests\n",
        "from bs4 import BeautifulSoup\n",
        "import pandas as pd\n",
        "import numpy as np\n",
        "import torch\n",
        "import torch.nn as nn\n",
        "import matplotlib.pyplot as plt\n",
        "from torch.utils.data.sampler import SubsetRandomSampler\n",
        "from torchvision import transforms\n",
        "import matplotlib.pyplot as plt\n",
        "from sklearn.preprocessing import StandardScaler\n",
        "import wandb\n",
        "import io\n",
        "import os\n",
        "from PIL import Image\n",
        "from torch.utils.data import Dataset\n",
        "from sklearn.manifold import TSNE\n",
        "import seaborn as sns\n",
        "import plotly.express as px\n",
        "import asyncio\n",
        "import aiohttp\n",
        "\n",
        "import IPython"
      ],
      "execution_count": 18,
      "outputs": []
    },
    {
      "cell_type": "code",
      "metadata": {
        "id": "jiXxF3-UEFGY"
      },
      "source": [
        "WANDB_ON = True\n",
        "SWEEP_ON = True\n",
        "COUNT = None"
      ],
      "execution_count": 5,
      "outputs": []
    },
    {
      "cell_type": "code",
      "metadata": {
        "id": "Os3h6ZvPoPyz"
      },
      "source": [
        "class IMDB(Dataset):\n",
        "    def __init__(self, URL: str = \"https://www.imdb.com/chart/top-english-movies/\", IMG_SIZE: tuple = (44,64)):\n",
        "        self.URL = URL\n",
        "        self.IMG_SIZE = IMG_SIZE\n",
        "        self.transform = transforms.Compose([\n",
        "            # transforms.RandomHorizontalFlip(p=0.5),\n",
        "            transforms.ToTensor(),\n",
        "            # transforms.Normalize((0.5, 0.5, 0.5), (0.5, 0.5, 0.5))\n",
        "        ])\n",
        "        # Parses through the IMDB website and finds the html elements that contain movie information  \n",
        "        page = requests.get(URL)\n",
        "        soup = BeautifulSoup(page.content, 'html.parser')\n",
        "        movie_list = soup.find(class_='lister-list')\n",
        "        movie_elems = movie_list.find_all('tr')\n",
        "\n",
        "        movTitle = []\n",
        "        movYear = []\n",
        "        movRating = []\n",
        "        movPoster = []\n",
        "\n",
        "        # Runs through the elements of the HTML to find the movie information \n",
        "        for i, elm in enumerate(movie_elems):\n",
        "            title = elm.find('td', 'titleColumn').a['title'] # Gets the title of the movie\n",
        "            movTitle.append(title)\n",
        "            year = int(elm.find('td', 'titleColumn').span.string[1:-1]) # Gets the year created of the movie\n",
        "            movYear.append(year)\n",
        "            rating = float(elm.find('td', 'ratingColumn imdbRating').strong.string) # Gets the rating of the movie\n",
        "            movRating.append(rating)\n",
        "            posterURL = elm.find('td', 'posterColumn').a.img['src'] # Gets the poster of the movie\n",
        "            data = requests.get(posterURL).content\n",
        "            img = Image.open(io.BytesIO(data)).resize(IMG_SIZE) # Resize the images to a standard size for the network\n",
        "            array = np.array(img, dtype='uint8')\n",
        "            movPoster.append(array)\n",
        "\n",
        "        # Take the information and save it into a dataframe\n",
        "        imdb = {'Movie Title':movTitle, 'Year Published':movYear, 'IMDb Rating':movRating, 'Movie Poster': movPoster}\n",
        "        self.df = pd.DataFrame(imdb)\n",
        "\n",
        "\n",
        "    def __len__(self):\n",
        "        return self.df.shape[0] # Gets the length of the dataframe\n",
        "\n",
        "\n",
        "    def __getitem__(self, index:int) -> np.ndarray:\n",
        "        image = self.transform(self.df['Movie Poster'][index]) # Turns the image into a tensor image\n",
        "        return image\n",
        "    \n",
        "    def displayImage(self, index:int):\n",
        "        image = self.df['Movie Poster'][index]\n",
        "        plt.imshow(image) # Displays image"
      ],
      "execution_count": 6,
      "outputs": []
    },
    {
      "cell_type": "code",
      "source": [
        "async def main():\n",
        "\n",
        "    async with aiohttp.ClientSession() as session:\n",
        "        async with session.get('http://python.org') as response:\n",
        "\n",
        "            print(\"Status:\", response.status)\n",
        "            print(\"Content-type:\", response.headers['content-type'])\n",
        "\n",
        "            html = await response.text()\n",
        "            print(\"Body:\", html[:15], \"...\")"
      ],
      "metadata": {
        "id": "QayjKtN44gpM"
      },
      "execution_count": 15,
      "outputs": []
    },
    {
      "cell_type": "code",
      "metadata": {
        "id": "gQ7mHP-zEFGZ",
        "colab": {
          "base_uri": "https://localhost:8080/"
        },
        "outputId": "8a3a215f-11c8-4586-fe51-247da0afec13"
      },
      "source": [
        "if WANDB_ON:\n",
        "    !wandb login"
      ],
      "execution_count": 7,
      "outputs": [
        {
          "output_type": "stream",
          "name": "stdout",
          "text": [
            "\u001b[34m\u001b[1mwandb\u001b[0m: You can find your API key in your browser here: https://wandb.ai/authorize\n",
            "\u001b[34m\u001b[1mwandb\u001b[0m: Paste an API key from your profile and hit enter, or press ctrl+c to quit: \n",
            "Aborted!\n",
            "^C\n"
          ]
        }
      ]
    },
    {
      "cell_type": "code",
      "metadata": {
        "id": "Ew-5qu5WEFGa",
        "colab": {
          "base_uri": "https://localhost:8080/",
          "height": 610
        },
        "outputId": "ecac32da-2bd3-4566-9ebf-605f982d4251"
      },
      "source": [
        "if WANDB_ON and SWEEP_ON:\n",
        "    sweep_config = {\n",
        "        \"name\": \"MovieWeb\",\n",
        "        \"method\": \"bayes\",\n",
        "        \"metric\": {\n",
        "            \"name\": \"test_loss\",\n",
        "            \"goal\": \"minimize\"\n",
        "        },\n",
        "        \"parameters\": {\n",
        "            \"learning_rate\": {\n",
        "                \"distribution\": \"uniform\",\n",
        "                \"min\": 0.0001,\n",
        "                \"max\": 0.01\n",
        "            },\n",
        "            \"optimizer\": {\n",
        "                \"values\": [\"Adam\"]\n",
        "            },\n",
        "            \"epochs\":{\n",
        "                \"distribution\": \"normal\",\n",
        "                \"mu\": 1000,\n",
        "                \"sigma\": 250,\n",
        "            },\n",
        "            \"batch_size\": {\n",
        "                \"distribution\": \"int_uniform\",\n",
        "                \"min\": 4,\n",
        "                \"max\": 256\n",
        "            },\n",
        "            \"random_seed\": {\n",
        "                \"values\": [42]\n",
        "            },\n",
        "            \"validation_split\": {\n",
        "                \"values\": [.2]\n",
        "            },\n",
        "            \"shuffle_dataset\": {\n",
        "                \"values\": [True]\n",
        "            }\n",
        "        }\n",
        "    }\n",
        "\n",
        "    sweep_id = wandb.sweep(sweep_config, project='MovieWeb', entity='cmerrill')"
      ],
      "execution_count": 8,
      "outputs": [
        {
          "output_type": "display_data",
          "data": {
            "application/javascript": [
              "\n",
              "        window._wandbApiKey = new Promise((resolve, reject) => {\n",
              "            function loadScript(url) {\n",
              "            return new Promise(function(resolve, reject) {\n",
              "                let newScript = document.createElement(\"script\");\n",
              "                newScript.onerror = reject;\n",
              "                newScript.onload = resolve;\n",
              "                document.body.appendChild(newScript);\n",
              "                newScript.src = url;\n",
              "            });\n",
              "            }\n",
              "            loadScript(\"https://cdn.jsdelivr.net/npm/postmate/build/postmate.min.js\").then(() => {\n",
              "            const iframe = document.createElement('iframe')\n",
              "            iframe.style.cssText = \"width:0;height:0;border:none\"\n",
              "            document.body.appendChild(iframe)\n",
              "            const handshake = new Postmate({\n",
              "                container: iframe,\n",
              "                url: 'https://wandb.ai/authorize'\n",
              "            });\n",
              "            const timeout = setTimeout(() => reject(\"Couldn't auto authenticate\"), 5000)\n",
              "            handshake.then(function(child) {\n",
              "                child.on('authorize', data => {\n",
              "                    clearTimeout(timeout)\n",
              "                    resolve(data)\n",
              "                });\n",
              "            });\n",
              "            })\n",
              "        });\n",
              "    "
            ],
            "text/plain": [
              "<IPython.core.display.Javascript object>"
            ]
          },
          "metadata": {}
        },
        {
          "output_type": "stream",
          "name": "stderr",
          "text": [
            "\u001b[34m\u001b[1mwandb\u001b[0m: You can find your API key in your browser here: https://wandb.ai/authorize\n"
          ]
        },
        {
          "output_type": "error",
          "ename": "KeyboardInterrupt",
          "evalue": "ignored",
          "traceback": [
            "\u001b[0;31m---------------------------------------------------------------------------\u001b[0m",
            "\u001b[0;31mKeyboardInterrupt\u001b[0m                         Traceback (most recent call last)",
            "\u001b[0;32m/usr/local/lib/python3.7/dist-packages/ipykernel/kernelbase.py\u001b[0m in \u001b[0;36m_input_request\u001b[0;34m(self, prompt, ident, parent, password)\u001b[0m\n\u001b[1;32m    728\u001b[0m             \u001b[0;32mtry\u001b[0m\u001b[0;34m:\u001b[0m\u001b[0;34m\u001b[0m\u001b[0;34m\u001b[0m\u001b[0m\n\u001b[0;32m--> 729\u001b[0;31m                 \u001b[0mident\u001b[0m\u001b[0;34m,\u001b[0m \u001b[0mreply\u001b[0m \u001b[0;34m=\u001b[0m \u001b[0mself\u001b[0m\u001b[0;34m.\u001b[0m\u001b[0msession\u001b[0m\u001b[0;34m.\u001b[0m\u001b[0mrecv\u001b[0m\u001b[0;34m(\u001b[0m\u001b[0mself\u001b[0m\u001b[0;34m.\u001b[0m\u001b[0mstdin_socket\u001b[0m\u001b[0;34m,\u001b[0m \u001b[0;36m0\u001b[0m\u001b[0;34m)\u001b[0m\u001b[0;34m\u001b[0m\u001b[0;34m\u001b[0m\u001b[0m\n\u001b[0m\u001b[1;32m    730\u001b[0m             \u001b[0;32mexcept\u001b[0m \u001b[0mException\u001b[0m\u001b[0;34m:\u001b[0m\u001b[0;34m\u001b[0m\u001b[0;34m\u001b[0m\u001b[0m\n",
            "\u001b[0;32m/usr/local/lib/python3.7/dist-packages/jupyter_client/session.py\u001b[0m in \u001b[0;36mrecv\u001b[0;34m(self, socket, mode, content, copy)\u001b[0m\n\u001b[1;32m    802\u001b[0m         \u001b[0;32mtry\u001b[0m\u001b[0;34m:\u001b[0m\u001b[0;34m\u001b[0m\u001b[0;34m\u001b[0m\u001b[0m\n\u001b[0;32m--> 803\u001b[0;31m             \u001b[0mmsg_list\u001b[0m \u001b[0;34m=\u001b[0m \u001b[0msocket\u001b[0m\u001b[0;34m.\u001b[0m\u001b[0mrecv_multipart\u001b[0m\u001b[0;34m(\u001b[0m\u001b[0mmode\u001b[0m\u001b[0;34m,\u001b[0m \u001b[0mcopy\u001b[0m\u001b[0;34m=\u001b[0m\u001b[0mcopy\u001b[0m\u001b[0;34m)\u001b[0m\u001b[0;34m\u001b[0m\u001b[0;34m\u001b[0m\u001b[0m\n\u001b[0m\u001b[1;32m    804\u001b[0m         \u001b[0;32mexcept\u001b[0m \u001b[0mzmq\u001b[0m\u001b[0;34m.\u001b[0m\u001b[0mZMQError\u001b[0m \u001b[0;32mas\u001b[0m \u001b[0me\u001b[0m\u001b[0;34m:\u001b[0m\u001b[0;34m\u001b[0m\u001b[0;34m\u001b[0m\u001b[0m\n",
            "\u001b[0;32m/usr/local/lib/python3.7/dist-packages/zmq/sugar/socket.py\u001b[0m in \u001b[0;36mrecv_multipart\u001b[0;34m(self, flags, copy, track)\u001b[0m\n\u001b[1;32m    624\u001b[0m         \"\"\"\n\u001b[0;32m--> 625\u001b[0;31m         \u001b[0mparts\u001b[0m \u001b[0;34m=\u001b[0m \u001b[0;34m[\u001b[0m\u001b[0mself\u001b[0m\u001b[0;34m.\u001b[0m\u001b[0mrecv\u001b[0m\u001b[0;34m(\u001b[0m\u001b[0mflags\u001b[0m\u001b[0;34m,\u001b[0m \u001b[0mcopy\u001b[0m\u001b[0;34m=\u001b[0m\u001b[0mcopy\u001b[0m\u001b[0;34m,\u001b[0m \u001b[0mtrack\u001b[0m\u001b[0;34m=\u001b[0m\u001b[0mtrack\u001b[0m\u001b[0;34m)\u001b[0m\u001b[0;34m]\u001b[0m\u001b[0;34m\u001b[0m\u001b[0;34m\u001b[0m\u001b[0m\n\u001b[0m\u001b[1;32m    626\u001b[0m         \u001b[0;31m# have first part already, only loop while more to receive\u001b[0m\u001b[0;34m\u001b[0m\u001b[0;34m\u001b[0m\u001b[0;34m\u001b[0m\u001b[0m\n",
            "\u001b[0;32mzmq/backend/cython/socket.pyx\u001b[0m in \u001b[0;36mzmq.backend.cython.socket.Socket.recv\u001b[0;34m()\u001b[0m\n",
            "\u001b[0;32mzmq/backend/cython/socket.pyx\u001b[0m in \u001b[0;36mzmq.backend.cython.socket.Socket.recv\u001b[0;34m()\u001b[0m\n",
            "\u001b[0;32mzmq/backend/cython/socket.pyx\u001b[0m in \u001b[0;36mzmq.backend.cython.socket._recv_copy\u001b[0;34m()\u001b[0m\n",
            "\u001b[0;32m/usr/local/lib/python3.7/dist-packages/zmq/backend/cython/checkrc.pxd\u001b[0m in \u001b[0;36mzmq.backend.cython.checkrc._check_rc\u001b[0;34m()\u001b[0m\n",
            "\u001b[0;31mKeyboardInterrupt\u001b[0m: ",
            "\nDuring handling of the above exception, another exception occurred:\n",
            "\u001b[0;31mKeyboardInterrupt\u001b[0m                         Traceback (most recent call last)",
            "\u001b[0;32m<ipython-input-8-45989e7dbcb1>\u001b[0m in \u001b[0;36m<module>\u001b[0;34m()\u001b[0m\n\u001b[1;32m     38\u001b[0m     }\n\u001b[1;32m     39\u001b[0m \u001b[0;34m\u001b[0m\u001b[0m\n\u001b[0;32m---> 40\u001b[0;31m     \u001b[0msweep_id\u001b[0m \u001b[0;34m=\u001b[0m \u001b[0mwandb\u001b[0m\u001b[0;34m.\u001b[0m\u001b[0msweep\u001b[0m\u001b[0;34m(\u001b[0m\u001b[0msweep_config\u001b[0m\u001b[0;34m,\u001b[0m \u001b[0mproject\u001b[0m\u001b[0;34m=\u001b[0m\u001b[0;34m'MovieWeb'\u001b[0m\u001b[0;34m,\u001b[0m \u001b[0mentity\u001b[0m\u001b[0;34m=\u001b[0m\u001b[0;34m'cmerrill'\u001b[0m\u001b[0;34m)\u001b[0m\u001b[0;34m\u001b[0m\u001b[0;34m\u001b[0m\u001b[0m\n\u001b[0m",
            "\u001b[0;32m/usr/local/lib/python3.7/dist-packages/wandb/sdk/wandb_sweep.py\u001b[0m in \u001b[0;36msweep\u001b[0;34m(sweep, entity, project)\u001b[0m\n\u001b[1;32m    101\u001b[0m     \u001b[0;31m# Make sure we are logged in\u001b[0m\u001b[0;34m\u001b[0m\u001b[0;34m\u001b[0m\u001b[0;34m\u001b[0m\u001b[0m\n\u001b[1;32m    102\u001b[0m     \u001b[0;32mif\u001b[0m \u001b[0mwandb\u001b[0m\u001b[0;34m.\u001b[0m\u001b[0mrun\u001b[0m \u001b[0;32mis\u001b[0m \u001b[0;32mNone\u001b[0m\u001b[0;34m:\u001b[0m\u001b[0;34m\u001b[0m\u001b[0;34m\u001b[0m\u001b[0m\n\u001b[0;32m--> 103\u001b[0;31m         \u001b[0mwandb_login\u001b[0m\u001b[0;34m.\u001b[0m\u001b[0m_login\u001b[0m\u001b[0;34m(\u001b[0m\u001b[0m_silent\u001b[0m\u001b[0;34m=\u001b[0m\u001b[0;32mTrue\u001b[0m\u001b[0;34m)\u001b[0m\u001b[0;34m\u001b[0m\u001b[0;34m\u001b[0m\u001b[0m\n\u001b[0m\u001b[1;32m    104\u001b[0m     \u001b[0mapi\u001b[0m \u001b[0;34m=\u001b[0m \u001b[0mInternalApi\u001b[0m\u001b[0;34m(\u001b[0m\u001b[0;34m)\u001b[0m\u001b[0;34m\u001b[0m\u001b[0;34m\u001b[0m\u001b[0m\n\u001b[1;32m    105\u001b[0m     \u001b[0msweep_id\u001b[0m\u001b[0;34m,\u001b[0m \u001b[0mwarnings\u001b[0m \u001b[0;34m=\u001b[0m \u001b[0mapi\u001b[0m\u001b[0;34m.\u001b[0m\u001b[0mupsert_sweep\u001b[0m\u001b[0;34m(\u001b[0m\u001b[0msweep\u001b[0m\u001b[0;34m)\u001b[0m\u001b[0;34m\u001b[0m\u001b[0;34m\u001b[0m\u001b[0m\n",
            "\u001b[0;32m/usr/local/lib/python3.7/dist-packages/wandb/sdk/wandb_login.py\u001b[0m in \u001b[0;36m_login\u001b[0;34m(anonymous, key, relogin, host, force, timeout, _backend, _silent, _disable_warning)\u001b[0m\n\u001b[1;32m    282\u001b[0m \u001b[0;34m\u001b[0m\u001b[0m\n\u001b[1;32m    283\u001b[0m     \u001b[0;32mif\u001b[0m \u001b[0;32mnot\u001b[0m \u001b[0mkey\u001b[0m\u001b[0;34m:\u001b[0m\u001b[0;34m\u001b[0m\u001b[0;34m\u001b[0m\u001b[0m\n\u001b[0;32m--> 284\u001b[0;31m         \u001b[0mwlogin\u001b[0m\u001b[0;34m.\u001b[0m\u001b[0mprompt_api_key\u001b[0m\u001b[0;34m(\u001b[0m\u001b[0;34m)\u001b[0m\u001b[0;34m\u001b[0m\u001b[0;34m\u001b[0m\u001b[0m\n\u001b[0m\u001b[1;32m    285\u001b[0m \u001b[0;34m\u001b[0m\u001b[0m\n\u001b[1;32m    286\u001b[0m     \u001b[0;31m# make sure login credentials get to the backend\u001b[0m\u001b[0;34m\u001b[0m\u001b[0;34m\u001b[0m\u001b[0;34m\u001b[0m\u001b[0m\n",
            "\u001b[0;32m/usr/local/lib/python3.7/dist-packages/wandb/sdk/wandb_login.py\u001b[0m in \u001b[0;36mprompt_api_key\u001b[0;34m(self)\u001b[0m\n\u001b[1;32m    210\u001b[0m \u001b[0;34m\u001b[0m\u001b[0m\n\u001b[1;32m    211\u001b[0m     \u001b[0;32mdef\u001b[0m \u001b[0mprompt_api_key\u001b[0m\u001b[0;34m(\u001b[0m\u001b[0mself\u001b[0m\u001b[0;34m)\u001b[0m\u001b[0;34m:\u001b[0m\u001b[0;34m\u001b[0m\u001b[0;34m\u001b[0m\u001b[0m\n\u001b[0;32m--> 212\u001b[0;31m         \u001b[0mkey\u001b[0m\u001b[0;34m,\u001b[0m \u001b[0mstatus\u001b[0m \u001b[0;34m=\u001b[0m \u001b[0mself\u001b[0m\u001b[0;34m.\u001b[0m\u001b[0m_prompt_api_key\u001b[0m\u001b[0;34m(\u001b[0m\u001b[0;34m)\u001b[0m\u001b[0;34m\u001b[0m\u001b[0;34m\u001b[0m\u001b[0m\n\u001b[0m\u001b[1;32m    213\u001b[0m         \u001b[0;32mif\u001b[0m \u001b[0mstatus\u001b[0m \u001b[0;34m==\u001b[0m \u001b[0mApiKeyStatus\u001b[0m\u001b[0;34m.\u001b[0m\u001b[0mNOTTY\u001b[0m\u001b[0;34m:\u001b[0m\u001b[0;34m\u001b[0m\u001b[0;34m\u001b[0m\u001b[0m\n\u001b[1;32m    214\u001b[0m             directive = (\n",
            "\u001b[0;32m/usr/local/lib/python3.7/dist-packages/wandb/sdk/wandb_login.py\u001b[0m in \u001b[0;36m_prompt_api_key\u001b[0;34m(self)\u001b[0m\n\u001b[1;32m    194\u001b[0m                     \u001b[0mapi\u001b[0m\u001b[0;34m=\u001b[0m\u001b[0mapi\u001b[0m\u001b[0;34m,\u001b[0m\u001b[0;34m\u001b[0m\u001b[0;34m\u001b[0m\u001b[0m\n\u001b[1;32m    195\u001b[0m                     \u001b[0mno_offline\u001b[0m\u001b[0;34m=\u001b[0m\u001b[0mself\u001b[0m\u001b[0;34m.\u001b[0m\u001b[0m_settings\u001b[0m\u001b[0;34m.\u001b[0m\u001b[0mforce\u001b[0m \u001b[0;32mif\u001b[0m \u001b[0mself\u001b[0m\u001b[0;34m.\u001b[0m\u001b[0m_settings\u001b[0m \u001b[0;32melse\u001b[0m \u001b[0;32mNone\u001b[0m\u001b[0;34m,\u001b[0m\u001b[0;34m\u001b[0m\u001b[0;34m\u001b[0m\u001b[0m\n\u001b[0;32m--> 196\u001b[0;31m                     \u001b[0mno_create\u001b[0m\u001b[0;34m=\u001b[0m\u001b[0mself\u001b[0m\u001b[0;34m.\u001b[0m\u001b[0m_settings\u001b[0m\u001b[0;34m.\u001b[0m\u001b[0mforce\u001b[0m \u001b[0;32mif\u001b[0m \u001b[0mself\u001b[0m\u001b[0;34m.\u001b[0m\u001b[0m_settings\u001b[0m \u001b[0;32melse\u001b[0m \u001b[0;32mNone\u001b[0m\u001b[0;34m,\u001b[0m\u001b[0;34m\u001b[0m\u001b[0;34m\u001b[0m\u001b[0m\n\u001b[0m\u001b[1;32m    197\u001b[0m                 )\n\u001b[1;32m    198\u001b[0m             \u001b[0;32mexcept\u001b[0m \u001b[0mValueError\u001b[0m \u001b[0;32mas\u001b[0m \u001b[0me\u001b[0m\u001b[0;34m:\u001b[0m\u001b[0;34m\u001b[0m\u001b[0;34m\u001b[0m\u001b[0m\n",
            "\u001b[0;32m/usr/local/lib/python3.7/dist-packages/wandb/sdk/lib/apikey.py\u001b[0m in \u001b[0;36mprompt_api_key\u001b[0;34m(settings, api, input_callback, browser_callback, no_offline, no_create, local)\u001b[0m\n\u001b[1;32m    120\u001b[0m                 \u001b[0;34mf\"You can find your API key in your browser here: {app_url}/authorize\"\u001b[0m\u001b[0;34m\u001b[0m\u001b[0;34m\u001b[0m\u001b[0m\n\u001b[1;32m    121\u001b[0m             )\n\u001b[0;32m--> 122\u001b[0;31m             \u001b[0mkey\u001b[0m \u001b[0;34m=\u001b[0m \u001b[0minput_callback\u001b[0m\u001b[0;34m(\u001b[0m\u001b[0mapi_ask\u001b[0m\u001b[0;34m)\u001b[0m\u001b[0;34m.\u001b[0m\u001b[0mstrip\u001b[0m\u001b[0;34m(\u001b[0m\u001b[0;34m)\u001b[0m\u001b[0;34m\u001b[0m\u001b[0;34m\u001b[0m\u001b[0m\n\u001b[0m\u001b[1;32m    123\u001b[0m         \u001b[0mwrite_key\u001b[0m\u001b[0;34m(\u001b[0m\u001b[0msettings\u001b[0m\u001b[0;34m,\u001b[0m \u001b[0mkey\u001b[0m\u001b[0;34m,\u001b[0m \u001b[0mapi\u001b[0m\u001b[0;34m=\u001b[0m\u001b[0mapi\u001b[0m\u001b[0;34m)\u001b[0m\u001b[0;34m\u001b[0m\u001b[0;34m\u001b[0m\u001b[0m\n\u001b[1;32m    124\u001b[0m         \u001b[0;32mreturn\u001b[0m \u001b[0mkey\u001b[0m\u001b[0;34m\u001b[0m\u001b[0;34m\u001b[0m\u001b[0m\n",
            "\u001b[0;32m/usr/local/lib/python3.7/dist-packages/ipykernel/kernelbase.py\u001b[0m in \u001b[0;36mgetpass\u001b[0;34m(self, prompt, stream)\u001b[0m\n\u001b[1;32m    685\u001b[0m             \u001b[0mself\u001b[0m\u001b[0;34m.\u001b[0m\u001b[0m_parent_ident\u001b[0m\u001b[0;34m,\u001b[0m\u001b[0;34m\u001b[0m\u001b[0;34m\u001b[0m\u001b[0m\n\u001b[1;32m    686\u001b[0m             \u001b[0mself\u001b[0m\u001b[0;34m.\u001b[0m\u001b[0m_parent_header\u001b[0m\u001b[0;34m,\u001b[0m\u001b[0;34m\u001b[0m\u001b[0;34m\u001b[0m\u001b[0m\n\u001b[0;32m--> 687\u001b[0;31m             \u001b[0mpassword\u001b[0m\u001b[0;34m=\u001b[0m\u001b[0;32mTrue\u001b[0m\u001b[0;34m,\u001b[0m\u001b[0;34m\u001b[0m\u001b[0;34m\u001b[0m\u001b[0m\n\u001b[0m\u001b[1;32m    688\u001b[0m         )\n\u001b[1;32m    689\u001b[0m \u001b[0;34m\u001b[0m\u001b[0m\n",
            "\u001b[0;32m/usr/local/lib/python3.7/dist-packages/ipykernel/kernelbase.py\u001b[0m in \u001b[0;36m_input_request\u001b[0;34m(self, prompt, ident, parent, password)\u001b[0m\n\u001b[1;32m    732\u001b[0m             \u001b[0;32mexcept\u001b[0m \u001b[0mKeyboardInterrupt\u001b[0m\u001b[0;34m:\u001b[0m\u001b[0;34m\u001b[0m\u001b[0;34m\u001b[0m\u001b[0m\n\u001b[1;32m    733\u001b[0m                 \u001b[0;31m# re-raise KeyboardInterrupt, to truncate traceback\u001b[0m\u001b[0;34m\u001b[0m\u001b[0;34m\u001b[0m\u001b[0;34m\u001b[0m\u001b[0m\n\u001b[0;32m--> 734\u001b[0;31m                 \u001b[0;32mraise\u001b[0m \u001b[0mKeyboardInterrupt\u001b[0m\u001b[0;34m\u001b[0m\u001b[0;34m\u001b[0m\u001b[0m\n\u001b[0m\u001b[1;32m    735\u001b[0m             \u001b[0;32melse\u001b[0m\u001b[0;34m:\u001b[0m\u001b[0;34m\u001b[0m\u001b[0;34m\u001b[0m\u001b[0m\n\u001b[1;32m    736\u001b[0m                 \u001b[0;32mbreak\u001b[0m\u001b[0;34m\u001b[0m\u001b[0;34m\u001b[0m\u001b[0m\n",
            "\u001b[0;31mKeyboardInterrupt\u001b[0m: "
          ]
        }
      ]
    },
    {
      "cell_type": "code",
      "metadata": {
        "id": "gXBi8Rs-EFGb"
      },
      "source": [
        "\n",
        "#Define the Convolutional Autoencoder\n",
        "class ConvAutoencoder(nn.Module):\n",
        "    def __init__(self):\n",
        "        super(ConvAutoencoder, self).__init__()\n",
        "        self.embedding_size = None\n",
        "        \n",
        "        #Encoder\n",
        "        self.encoder = nn.Sequential(\n",
        "            nn.Conv2d(3, 16, 3, padding=1), \n",
        "            nn.ReLU(),\n",
        "            nn.MaxPool2d(2, 2),\n",
        "            nn.Conv2d(16, 4, 3, padding=1), \n",
        "            nn.ReLU(),\n",
        "            nn.MaxPool2d(2, 2)\n",
        "            \n",
        "        )\n",
        "       \n",
        "        #Decoder\n",
        "        self.decoder = nn.Sequential(\n",
        "            nn.ConvTranspose2d(4, 16, 2, stride=2),\n",
        "            nn.ReLU(),\n",
        "            nn.ConvTranspose2d(16, 3, 2, stride=2),\n",
        "            nn.Sigmoid(),\n",
        "        )\n",
        "\n",
        "    def forward(self, x) -> torch.Tensor:\n",
        "        x = self.encoder(x)\n",
        "        if x.size() != self.embedding_size:\n",
        "            self.embedding_size = x.size()\n",
        "        x = self.decoder(x)\n",
        "        return x\n",
        "\n",
        "    def embedding(self, x) -> torch.Tensor:\n",
        "        x = torch.flatten(self.encoder(x), start_dim=1).T\n",
        "        return x\n",
        "\n",
        "    def count_parameters(self) -> int:\n",
        "        return sum(p.numel() for p in self.parameters() if p.requires_grad)"
      ],
      "execution_count": null,
      "outputs": []
    },
    {
      "cell_type": "code",
      "metadata": {
        "id": "3T_0Avb-EFGb"
      },
      "source": [
        "def compression_ratio():\n",
        "    temp_db = IMDB()\n",
        "    x = temp_db.__getitem__(0)\n",
        "    model = ConvAutoencoder()\n",
        "    x = torch.reshape(x, (1,*x.shape))\n",
        "    _ = model.forward(x)\n",
        "    cr = np.prod(x.shape) / np.prod(model.embedding_size)\n",
        "    return cr\n",
        "\n",
        "\n",
        "\n",
        "print(f'Compression ratio: {compression_ratio()}:1')"
      ],
      "execution_count": null,
      "outputs": []
    },
    {
      "cell_type": "code",
      "metadata": {
        "id": "wvbmrwH8VtXF"
      },
      "source": [
        " hasGPU = torch.cuda.is_available"
      ],
      "execution_count": null,
      "outputs": []
    },
    {
      "cell_type": "code",
      "metadata": {
        "tags": [],
        "id": "8SB7Iyj9EFGc"
      },
      "source": [
        "def train():\n",
        "    # get_device()\n",
        "    with wandb.init(project='MovieWeb', entity='cmerrill') if WANDB_ON else None as run:\n",
        "        config = {}\n",
        "        config['learning_rate'] = 0.1\n",
        "        config['batch_size'] = 4\n",
        "        config['epochs'] = 2000\n",
        "        config['validation_split'] = 0.2\n",
        "        config['shuffle_dataset'] = True\n",
        "        config['random_seed'] = 42\n",
        "        config['optimizer'] = \"SGD\"\n",
        "        \n",
        "        if WANDB_ON:\n",
        "            config.update(wandb.config)\n",
        "        \n",
        "        config['epochs'] = int(config['epochs'])\n",
        "        print(config)\n",
        "        \n",
        "        # Creating data indices for training and validation splits:\n",
        "        imdbDataset = IMDB()\n",
        "        dataset_size = len(imdbDataset)\n",
        "        indices = list(range(dataset_size))\n",
        "        split = int(np.floor(config['validation_split'] * dataset_size))\n",
        "        if config['shuffle_dataset'] :\n",
        "            np.random.seed(config['random_seed'])\n",
        "            np.random.shuffle(indices)\n",
        "        train_indices, test_indices = indices[split:], indices[:split]\n",
        "\n",
        "        # Creating PT data samplers and loaders:\n",
        "        train_sampler = SubsetRandomSampler(train_indices)\n",
        "        test_sampler = SubsetRandomSampler(test_indices)\n",
        "\n",
        "        train_loader = torch.utils.data.DataLoader(\n",
        "            imdbDataset, \n",
        "            batch_size=config['batch_size'], \n",
        "            sampler=train_sampler\n",
        "        )\n",
        "\n",
        "        test_loader = torch.utils.data.DataLoader(\n",
        "            imdbDataset, \n",
        "            batch_size=config['batch_size'],\n",
        "            sampler=test_sampler\n",
        "        )\n",
        "\n",
        "        #Instantiate the model\n",
        "        model = ConvAutoencoder()\n",
        "        if hasGPU():\n",
        "          model.cuda()\n",
        "        else:\n",
        "          model.cpu()\n",
        "\n",
        "        if WANDB_ON:\n",
        "            wandb.watch(model)\n",
        "\n",
        "        #Loss function\n",
        "        criterion = nn.MSELoss()\n",
        "\n",
        "        #Optimizer\n",
        "        optimizer = getattr(torch.optim, config['optimizer'])(model.parameters(), lr = config['learning_rate'])\n",
        "\n",
        "        for epoch in range(1, config['epochs']+1):\n",
        "            # monitor training loss\n",
        "            train_loss = 0.0\n",
        "            \n",
        "            # Training\n",
        "            for images in train_loader:\n",
        "              if hasGPU():\n",
        "                images = images.cuda()\n",
        "              else:\n",
        "                images = images.cpu()\n",
        "                optimizer.zero_grad()\n",
        "                outputs = model(images)\n",
        "                loss = criterion(outputs, images)\n",
        "                loss.backward()\n",
        "                optimizer.step()\n",
        "                train_loss += loss.item()*images.size(0)\n",
        "                \n",
        "            train_loss = train_loss/len(train_loader)\n",
        "            \n",
        "            if WANDB_ON:\n",
        "                wandb.log({\"loss\": train_loss})\n",
        "\n",
        "            #monitor testing loss\n",
        "            test_loss = 0.0\n",
        "\n",
        "            # Testing\n",
        "            for images in test_loader:\n",
        "              if hasGPU():\n",
        "                images = images.cuda()\n",
        "              else:\n",
        "                images = images.cpu()\n",
        "              outputs = model(images)\n",
        "              loss = criterion(outputs, images)\n",
        "              test_loss += loss.item()*images.size(0)\n",
        "          \n",
        "            test_loss = test_loss/len(test_loader)\n",
        "            \n",
        "            if WANDB_ON:\n",
        "                wandb.log({\"test_loss\": test_loss})\n",
        "\n",
        "            print('Epoch {} | Train Loss: {:.4f} |  Test Loss: {:.4f}'.format(epoch, train_loss, test_loss))\n",
        "\n",
        "        #Batch of test images\n",
        "        dataiter = iter(train_loader)\n",
        "        images = dataiter.next()\n",
        "        if hasGPU():\n",
        "          images = images.cuda()\n",
        "        else:\n",
        "          images = images.cpu()\n",
        "\n",
        "        #Sample outputs\n",
        "        outputs = model(images)\n",
        "        images = images.cpu().data.numpy()\n",
        "        outputs = outputs.cpu().data.numpy()\n",
        "\n",
        "        #Original Images\n",
        "        f, axarr = plt.subplots(1,4,figsize=(12,12))\n",
        "        for idx in np.arange(4):\n",
        "            axarr[idx].imshow(np.moveaxis(images[idx], 0, -1))\n",
        "            axarr[idx].tick_params(\n",
        "                left=False, \n",
        "                right=False , \n",
        "                labelleft=False ,\n",
        "                labelbottom=False, \n",
        "                bottom=False\n",
        "            )\n",
        "        if WANDB_ON:\n",
        "            wandb.log({\"true_images\": plt})\n",
        "        else:\n",
        "            plt.show()\n",
        "\n",
        "        #Reconstructed Images\n",
        "        f, axarr = plt.subplots(1,4,figsize=(12,12))\n",
        "        for idx in np.arange(4):\n",
        "            axarr[idx].imshow(np.moveaxis(outputs[idx], 0, -1))\n",
        "            axarr[idx].tick_params(\n",
        "                left=False, \n",
        "                right=False , \n",
        "                labelleft=False ,\n",
        "                labelbottom=False, \n",
        "                bottom=False\n",
        "            )\n",
        "\n",
        "        if WANDB_ON:\n",
        "            wandb.log({\"reconstructed_images\": plt})\n",
        "        else:\n",
        "            plt.show()\n",
        "\n",
        "        if WANDB_ON:\n",
        "            # Save your model.\n",
        "            torch.save(model.state_dict(), './saved_models/model.pth')\n",
        "            # Save as artifact for version control.\n",
        "            artifact = wandb.Artifact(f'model', type='model')\n",
        "            artifact.add_file('./saved_models/model.pth')\n",
        "            run.log_artifact(artifact, aliases=['latest', run.name])\n",
        "            run.join()\n",
        "            # Delete the file from the saved_models folder.\n",
        "            os.remove('./saved_models/model.pth')\n",
        "            run.finish()"
      ],
      "execution_count": null,
      "outputs": []
    },
    {
      "cell_type": "code",
      "metadata": {
        "id": "vJS7ud0LEFGc"
      },
      "source": [
        "if WANDB_ON:\n",
        "    if SWEEP_ON:\n",
        "        wandb.agent(sweep_id, function=train, count=COUNT)\n",
        "    else:\n",
        "        train()"
      ],
      "execution_count": null,
      "outputs": []
    },
    {
      "cell_type": "markdown",
      "metadata": {
        "id": "2MiQHcEuEFGd"
      },
      "source": [
        "- Run all of the data through the model to get the embedding for each poster"
      ]
    },
    {
      "cell_type": "code",
      "metadata": {
        "id": "rOuDuNTHEFGe"
      },
      "source": [
        "def getBestModel(sweep_id):\n",
        "    api = wandb.Api()\n",
        "\n",
        "    sweep = api.sweep(f\"cmerrill/MovieWeb/{sweep_id}\")\n",
        "    runs = sorted(sweep.runs,\n",
        "        key=lambda run: run.summary.get(\"test_loss\", 0))\n",
        "    runs = list(filter(lambda run: run.summary.get(\"test_loss\") not in [0,None],runs))\n",
        "    test_loss = runs[0].summary.get(\"name\", 0)\n",
        "    print(f\"Best run {runs[0].name} with {test_loss} test loss\")\n",
        "\n",
        "    run = wandb.init()\n",
        "    artifact = run.use_artifact(f'cmerrill/MovieWeb/model:{runs[0].name}', type='model')\n",
        "    artifact_dir = artifact.download()\n",
        "    model = ConvAutoencoder()\n",
        "    checkpoint = torch.load(os.path.join(artifact_dir, 'model.pth'))\n",
        "    model.load_state_dict(checkpoint)\n",
        "    \n",
        "    return model"
      ],
      "execution_count": null,
      "outputs": []
    },
    {
      "cell_type": "code",
      "metadata": {
        "id": "bYrJBm3DEFGe"
      },
      "source": [
        "model = getBestModel('wd6dnfqw')"
      ],
      "execution_count": null,
      "outputs": []
    },
    {
      "cell_type": "code",
      "metadata": {
        "id": "t0Hr86GhEFGe"
      },
      "source": [
        "def validateBestModel(model):\n",
        "    \n",
        "    imdbDataset = IMDB()\n",
        "    # Creating data indices for training and validation splits:\n",
        "    dataset_size = len(imdbDataset)\n",
        "    indices = list(range(dataset_size))\n",
        "    split = int(np.floor(.2 * dataset_size))\n",
        "    np.random.seed(42)\n",
        "    np.random.shuffle(indices)\n",
        "    test_indices = indices[:split]\n",
        "\n",
        "    # Creating PyTorch data samplers and loaders:\n",
        "    test_sampler = SubsetRandomSampler(test_indices)\n",
        "\n",
        "    test_loader = torch.utils.data.DataLoader(\n",
        "        imdbDataset, \n",
        "        batch_size=8,\n",
        "        sampler=test_sampler\n",
        "    )\n",
        "\n",
        "    #Batch of test images\n",
        "    dataiter = iter(test_loader)\n",
        "    images = dataiter.next()\n",
        "    # images = images.cuda()\n",
        "\n",
        "    #Sample outputs\n",
        "    outputs = model(images)\n",
        "    images = images.cpu().data.numpy()\n",
        "    outputs = outputs.cpu().data.numpy()\n",
        "\n",
        "    #Original Images\n",
        "    print(\"Test Images\")\n",
        "    f, axarr = plt.subplots(1,8,figsize=(12,12))\n",
        "    for idx in np.arange(8):\n",
        "        axarr[idx].imshow(np.moveaxis(images[idx], 0, -1))\n",
        "        axarr[idx].tick_params(\n",
        "            left=False, \n",
        "            right=False , \n",
        "            labelleft=False ,\n",
        "            labelbottom=False, \n",
        "            bottom=False\n",
        "        )\n",
        "    plt.show()\n",
        "\n",
        "    #Reconstructed Images\n",
        "    print('Reconstructed Images')\n",
        "    f, axarr = plt.subplots(1,8,figsize=(12,12))\n",
        "    for idx in np.arange(8):\n",
        "        axarr[idx].imshow(np.moveaxis(outputs[idx], 0, -1))\n",
        "        axarr[idx].tick_params(\n",
        "            left=False, \n",
        "            right=False , \n",
        "            labelleft=False ,\n",
        "            labelbottom=False, \n",
        "            bottom=False\n",
        "        )\n",
        "    plt.show()"
      ],
      "execution_count": null,
      "outputs": []
    },
    {
      "cell_type": "code",
      "metadata": {
        "id": "l78DCbMNEFGe"
      },
      "source": [
        "validateBestModel(model)"
      ],
      "execution_count": null,
      "outputs": []
    },
    {
      "cell_type": "code",
      "metadata": {
        "id": "CtRzVpzWaNbi"
      },
      "source": [
        "imdbDataset = IMDB()\n",
        "\n",
        "data_loader = torch.utils.data.DataLoader(\n",
        "    imdbDataset, \n",
        "    batch_size=len(imdbDataset),\n",
        ")\n",
        "\n",
        "#Batch of test images\n",
        "dataiter = iter(data_loader)\n",
        "outputs = model.embedding(next(dataiter))\n",
        "outputs = outputs.T.cpu().data.numpy()\n",
        "\n",
        "X_embedded = TSNE(n_components=3, learning_rate='auto', init='random').fit_transform(outputs)"
      ],
      "execution_count": null,
      "outputs": []
    },
    {
      "cell_type": "code",
      "source": [
        "x, y, z = zip(*X_embedded)\n",
        "fig = px.scatter_3d(x=x, y=y, z=z)\n",
        "fig.show()"
      ],
      "metadata": {
        "id": "VNDwPELYTx3u"
      },
      "execution_count": null,
      "outputs": []
    },
    {
      "cell_type": "code",
      "source": [
        "outputs.shape"
      ],
      "metadata": {
        "id": "CXxXCmMaQ-cs"
      },
      "execution_count": null,
      "outputs": []
    },
    {
      "cell_type": "code",
      "source": [
        ""
      ],
      "metadata": {
        "id": "jlIabGrwUsYa"
      },
      "execution_count": null,
      "outputs": []
    }
  ]
}