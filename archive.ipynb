{
 "metadata": {
  "language_info": {
   "codemirror_mode": {
    "name": "ipython",
    "version": 3
   },
   "file_extension": ".py",
   "mimetype": "text/x-python",
   "name": "python",
   "nbconvert_exporter": "python",
   "pygments_lexer": "ipython3",
   "version": "3.9.5"
  },
  "orig_nbformat": 4,
  "kernelspec": {
   "name": "python3",
   "display_name": "Python 3.9.5 64-bit ('PythonSoftwareFoundation.Python.3.9_qbz5n2kfra8p0')"
  },
  "interpreter": {
   "hash": "66f04e65ac0cc0c15e02b21400a7ddfd7b4d0f816210636d18174726fe6f58c1"
  }
 },
 "nbformat": 4,
 "nbformat_minor": 2,
 "cells": [
  {
   "cell_type": "code",
   "execution_count": null,
   "metadata": {},
   "outputs": [],
   "source": [
    "from sklearn.linear_model import LinearRegression\n",
    "from sklearn.preprocessing import StandardScaler"
   ]
  },
  {
   "cell_type": "code",
   "execution_count": null,
   "metadata": {},
   "outputs": [],
   "source": [
    "fig = plt.figure()\n",
    "ax1 = fig.add_subplot(121)\n",
    "ax2 = fig.add_subplot(122)\n",
    "\n",
    "IMDb_df.plot.scatter(\"Year Published\", \"IMDb Rating\", ax=ax1)\n",
    "\n",
    "lr = LinearRegression().fit(np.array(IMDb_df['Year Published']).reshape(-1,1), np.array(IMDb_df['IMDb Rating']).reshape(-1,1))\n",
    "IMDb_df.plot.scatter(x='Year Published', y='IMDb Rating', ax=ax2)\n",
    "ax2.plot(np.array(IMDb_df['Year Published']) , lr.predict(np.array(IMDb_df['Year Published']).reshape(-1,1)), color = 'r')\n",
    "plt.subplots_adjust(right=1.656)\n",
    "\n",
    "plt.show()"
   ]
  },
  {
   "cell_type": "code",
   "execution_count": null,
   "metadata": {},
   "outputs": [],
   "source": [
    "# #def getMetaCritic(URL):\n",
    "\n",
    "# movie_list = soup.find(class_='clamp-list')\n",
    "\n",
    "# movie_elems = movie_list.find_all('tr')\n",
    "\n",
    "# page = Request(url, headers={'User-Agent': 'Mozilla/5.0'})\n",
    "\n",
    "# webpage = urlopen(page).read()\n",
    "\n",
    "# soup = BeautifulSoup(webpage, \"html.parser\")\n",
    "\n",
    " \n",
    "\n",
    "# for elm in movie_elems:\n",
    "#   try:\n",
    "#     title = elm.find('td', 'clamp-summary-wrap').find('a', \"title\").h3.string\n",
    "#     movTitle.append(title)\n",
    "#     year = int(elm.find('td', 'clamp-summary-wrap').find('div', 'clamp-details').span.string[-4:])\n",
    "#     movYear.append(year)\n",
    "#     rating = float(elm.find('td', 'clamp-summary-wrap').find('div', 'clamp-score-wrap').a.div.string)\n",
    "#     movRating.append(rating)\n",
    "#   except AttributeError:\n",
    "#     continue\n",
    "\n",
    "# meta = {'Movie Title':movTitle, 'Year Published':movYear, 'Metacritic Rating':movRating}\n",
    "# pd.DataFrame(meta) #Add Return when converted into Function\n",
    "\n",
    "\n",
    "# elm.find('td', 'clamp-summary-wrap').find('div', 'clamp-score-wrap').a.div.string"
   ]
  },
  {
   "cell_type": "code",
   "execution_count": null,
   "metadata": {},
   "outputs": [],
   "source": [
    "x = [1,-2,5] \n",
    "y = [1,-2,5]\n",
    "y_bar = sum(y)/len(y) #8.1\n",
    "x_bar = sum(x)/len(x) #1973.33"
   ]
  },
  {
   "cell_type": "code",
   "execution_count": null,
   "metadata": {},
   "outputs": [],
   "source": [
    "tot = 0\n",
    "for x_val,y_val in zip(x,y):\n",
    "  x_var = (x_val - x_bar)* -1\n",
    "  y_var = (y_val - y_bar)* -1\n",
    "  tot += x_var * y_var\n",
    "tot/len(x)"
   ]
  },
  {
   "cell_type": "code",
   "execution_count": null,
   "metadata": {},
   "outputs": [],
   "source": [
    "np.dot((np.array(x) - np.average(x)),(np.array(y) - np.average(y)))/np.array(x).shape[0]"
   ]
  },
  {
   "cell_type": "code",
   "execution_count": null,
   "metadata": {},
   "outputs": [],
   "source": [
    "a = np.ones((4,7)) + 4"
   ]
  },
  {
   "cell_type": "code",
   "execution_count": null,
   "metadata": {},
   "outputs": [],
   "source": [
    "b = np.ones((3,4)) /2"
   ]
  },
  {
   "cell_type": "code",
   "execution_count": null,
   "metadata": {},
   "outputs": [],
   "source": [
    "np.dot(b, a)"
   ]
  },
  {
   "cell_type": "code",
   "execution_count": null,
   "metadata": {},
   "outputs": [],
   "source": [
    "x = np.array([1, 5, 4, 7])\n",
    "y = x * 5 + 7"
   ]
  },
  {
   "cell_type": "code",
   "execution_count": null,
   "metadata": {},
   "outputs": [],
   "source": [
    "fig, ax = plt.subplots()\n",
    "ax.scatter([1, 5, 4, 7], [12, 32, 27, 42])\n",
    "ax.set_ylabel(\"y label\")\n",
    "ax.set_xlabel('x label')\n",
    "plt.show()"
   ]
  },
  {
   "cell_type": "code",
   "execution_count": null,
   "metadata": {},
   "outputs": [],
   "source": [
    "a_numer = np.dot(x - np.average(x), y - np.average(y))\n",
    "a_denom = np.dot(x - np.average(x), x - np.average(x))"
   ]
  },
  {
   "cell_type": "code",
   "execution_count": null,
   "metadata": {},
   "outputs": [],
   "source": [
    "a = a_numer/a_denom"
   ]
  },
  {
   "cell_type": "code",
   "execution_count": null,
   "metadata": {},
   "outputs": [],
   "source": [
    "b = np.average(y) - a * np.average(x)"
   ]
  },
  {
   "cell_type": "code",
   "execution_count": null,
   "metadata": {},
   "outputs": [],
   "source": [
    "scaler = StandardScaler()\n",
    "scaler.fit(x.reshape(-1, 1))\n",
    "scaler.transform(x.reshape(-1, 1))"
   ]
  },
  {
   "cell_type": "code",
   "execution_count": null,
   "metadata": {},
   "outputs": [],
   "source": [
    "class Perceptron:\n",
    "\n",
    "    def __init__(self, no_of_inputs, threshold=100, learning_rate=0.01):\n",
    "        self.threshold = threshold\n",
    "        self.learning_rate = learning_rate\n",
    "        self.weights = np.zeros(no_of_inputs + 1)\n",
    "           \n",
    "    def predict(self, inputs):\n",
    "        summation = np.dot(inputs, self.weights[1:]) + self.weights[0]\n",
    "        if summation > 0:\n",
    "          activation = 1\n",
    "        else:\n",
    "          activation = 0            \n",
    "        return activation\n",
    "\n",
    "    def train(self, training_inputs, labels):\n",
    "        for _ in range(self.threshold):\n",
    "            for inputs, label in zip(training_inputs, labels):\n",
    "                prediction = self.predict(inputs)\n",
    "                self.weights[1:] += self.learning_rate * (label - prediction) * inputs\n",
    "                self.weights[0] += self.learning_rate * (label - prediction)"
   ]
  },
  {
   "cell_type": "code",
   "execution_count": null,
   "metadata": {},
   "outputs": [],
   "source": [
    "listy = [1,2,3]\n",
    "listx = [3,2,1,0]\n",
    "for x in zip(listx,listy):\n",
    "  print(x)"
   ]
  },
  {
   "cell_type": "code",
   "execution_count": null,
   "metadata": {},
   "outputs": [],
   "source": [
    "myPerceptron = Perceptron(4)"
   ]
  },
  {
   "cell_type": "code",
   "execution_count": null,
   "metadata": {},
   "outputs": [],
   "source": [
    "[(3,1), (2,2), (1,3)]"
   ]
  },
  {
   "cell_type": "code",
   "execution_count": null,
   "metadata": {},
   "outputs": [],
   "source": [
    " summation = np.dot(np.zeros((2,4)), myPerceptron.weights[1:]) + myPerceptron.weights[0]"
   ]
  },
  {
   "cell_type": "code",
   "execution_count": null,
   "metadata": {},
   "outputs": [],
   "source": []
  }
 ]
}